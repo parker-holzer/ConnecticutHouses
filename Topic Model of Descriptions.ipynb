{
 "cells": [
  {
   "cell_type": "markdown",
   "metadata": {},
   "source": [
    "# Overview\n",
    "\n",
    "#### Here we have a dataset of houses sold in Connecticut near the beginning of 2021. For simplicity, we only consider single family houses. Ultimately, we wish to build a model for the price at which each house sold for, based on its characteristics listed on real estate websites. Such characteristics often include internal square footage, the year it was built, the bedroom count, the bathroom count, and the area of the lot. But there is also usually a lengthy description written by the real estate agent. Is there any additional information hidden in such a description that would help improve the model of the price? This is the question we focus on answering here.\n",
    "\n",
    "#### The difficult thing about answering such a question is that the description is written in natural language with thousands of different possible words. Here we use a natural language processing tool called topic models. While most people are probably familiar with this tool being used to sort documents into human-recognizable topic groups, it can also be viewed as a dimensional reduction of text data. Instead of using thousands of possible words, and how many times they show up in each house description, we reduce the dimension to a significantly smaller number of topics that make up each description.\n",
    "\n",
    "#### These topics can then be used with the other quantitative variables in a linear model with the house price as the response variable. "
   ]
  },
  {
   "cell_type": "code",
   "execution_count": 1,
   "metadata": {},
   "outputs": [],
   "source": [
    "import numpy as np\n",
    "import pandas as pd\n",
    "import re\n",
    "import gensim\n",
    "\n",
    "from collections import Counter\n",
    "\n",
    "import logging\n",
    "logging.basicConfig(format='%(asctime)s : %(levelname)s : %(message)s', level=logging.ERROR)\n",
    "logging.root.level = logging.CRITICAL \n",
    "\n",
    "import warnings\n",
    "warnings.filterwarnings(\"ignore\",category=DeprecationWarning)"
   ]
  },
  {
   "cell_type": "markdown",
   "metadata": {},
   "source": [
    "## Read in and clean up the data"
   ]
  },
  {
   "cell_type": "code",
   "execution_count": 2,
   "metadata": {},
   "outputs": [],
   "source": [
    "d1 = pd.read_csv(\"zillow_ct_1-500.csv\")\n",
    "d2 = pd.read_csv(\"zillow_ct_501-1000.csv\")\n",
    "d3 = pd.read_csv(\"zillow_ct_1001-1500.csv\")\n",
    "d = pd.concat([d1, d2, d3]).reset_index()\n",
    "d.loc[pd.isna(d.loc[:,\"DESCRIPTION\"]),\"DESCRIPTION\"] = \"\"\n",
    "d = d.drop(columns=['index', 'TYPE'])\n",
    "def cleanlot(l):\n",
    "    if pd.isna(l):\n",
    "        return np.nan\n",
    "    elif l.split()[1] == 'nan' or l.split()[1] == \"Data\":\n",
    "        return np.nan\n",
    "    elif l.split()[1] == 'sqft':\n",
    "        return float(l.split()[0].replace(',',''))*2.29568e-5\n",
    "    else:\n",
    "        return float(l.split()[0])\n",
    "d.loc[:,\"LOTSIZE\"] = np.array([cleanlot(l) for l in d.LOTSIZE.values])"
   ]
  },
  {
   "cell_type": "code",
   "execution_count": 3,
   "metadata": {},
   "outputs": [],
   "source": [
    "import glob\n",
    "files = glob.glob(\"CT_houses/*\")\n",
    "d4 = pd.read_csv(files[0])\n",
    "for f in files[1:]:\n",
    "    d4 = pd.concat([d4, pd.read_csv(f)])\n",
    "d4.loc[:,\"Price\"] = np.array([float(p.replace('$','').replace(',','')) for p in d4.Price.values if not pd.isna(p)])\n",
    "def bedclean(b):\n",
    "    if b.split()[0] == '--' or b.split()[0] == \"Studio\":\n",
    "        return 0\n",
    "    else:\n",
    "        return int(b.split()[0])\n",
    "d4.loc[:,\"Bed\"] = np.array([bedclean(b) for b in d4.Bed.values])\n",
    "d4.loc[:,\"Bath\"] = np.array([0 if b.split()[0] == '--' else int(b.split()[0]) for b in d4.Bath.values])\n",
    "d4.loc[:,\"Area\"] = np.array([np.nan if a.split()[0] == '--' else int(a.split()[0].replace(',','')) for a in d4.Area.values])\n",
    "def cleanbuilt(b):\n",
    "    if b == \"No Data\" or b == \" \":\n",
    "        return np.nan\n",
    "    else:\n",
    "        return int(b)\n",
    "d4.loc[:,\"Built\"] = np.array([cleanbuilt(b) for b in d4.Built.values])\n",
    "def cleanlot2(l):\n",
    "    if len(l.split()) < 2:\n",
    "        return np.nan\n",
    "    elif ' sqft' in l:\n",
    "        return float(l.split(' sqft')[0].replace(',',''))*2.29568e-5\n",
    "    elif ' Acres' in l:\n",
    "        l2 = l.split()\n",
    "        return float(np.array(l2)[np.where(np.array(l2) == \"Acres\")[0] - 1])\n",
    "    else:\n",
    "        return np.nan\n",
    "d4.loc[:,\"Lot\"] = np.array([cleanlot2(l) for l in d4.Lot.values])\n",
    "d4 = pd.DataFrame({\"AREA\": d4.Area.values, \n",
    "                   \"BED\": d4.Bed.values,\n",
    "                   \"BATH\": d4.Bath.values,\n",
    "                   \"BUILT\": d4.Built.values,\n",
    "                   \"DESCRIPTION\": d4.Description.values,\n",
    "                   \"LOTSIZE\": d4.Lot.values,\n",
    "                   \"PRICE\": d4.Price.values})"
   ]
  },
  {
   "cell_type": "code",
   "execution_count": 4,
   "metadata": {},
   "outputs": [],
   "source": [
    "nonduplicates = np.array([i for i in range(d4.shape[0]) if not d4.DESCRIPTION.values[i] in d.DESCRIPTION.values])"
   ]
  },
  {
   "cell_type": "code",
   "execution_count": 5,
   "metadata": {},
   "outputs": [
    {
     "data": {
      "text/html": [
       "<div>\n",
       "<style scoped>\n",
       "    .dataframe tbody tr th:only-of-type {\n",
       "        vertical-align: middle;\n",
       "    }\n",
       "\n",
       "    .dataframe tbody tr th {\n",
       "        vertical-align: top;\n",
       "    }\n",
       "\n",
       "    .dataframe thead th {\n",
       "        text-align: right;\n",
       "    }\n",
       "</style>\n",
       "<table border=\"1\" class=\"dataframe\">\n",
       "  <thead>\n",
       "    <tr style=\"text-align: right;\">\n",
       "      <th></th>\n",
       "      <th>index</th>\n",
       "      <th>AREA</th>\n",
       "      <th>BED</th>\n",
       "      <th>BATH</th>\n",
       "      <th>BUILT</th>\n",
       "      <th>DESCRIPTION</th>\n",
       "      <th>LOTSIZE</th>\n",
       "      <th>PRICE</th>\n",
       "    </tr>\n",
       "  </thead>\n",
       "  <tbody>\n",
       "    <tr>\n",
       "      <th>0</th>\n",
       "      <td>0</td>\n",
       "      <td>1629.0</td>\n",
       "      <td>2.0</td>\n",
       "      <td>2.0</td>\n",
       "      <td>1889.0</td>\n",
       "      <td>Welcome home! Charming &amp; well kept, this 2 bed...</td>\n",
       "      <td>0.159986</td>\n",
       "      <td>224000.0</td>\n",
       "    </tr>\n",
       "    <tr>\n",
       "      <th>1</th>\n",
       "      <td>1</td>\n",
       "      <td>1278.0</td>\n",
       "      <td>3.0</td>\n",
       "      <td>2.0</td>\n",
       "      <td>1900.0</td>\n",
       "      <td>This adorable cape has a lot to offer.  You st...</td>\n",
       "      <td>0.179981</td>\n",
       "      <td>225000.0</td>\n",
       "    </tr>\n",
       "    <tr>\n",
       "      <th>2</th>\n",
       "      <td>2</td>\n",
       "      <td>1264.0</td>\n",
       "      <td>3.0</td>\n",
       "      <td>2.0</td>\n",
       "      <td>1988.0</td>\n",
       "      <td>This 1264 sqft Colonial with its 3 bedrooms an...</td>\n",
       "      <td>0.089991</td>\n",
       "      <td>224900.0</td>\n",
       "    </tr>\n",
       "    <tr>\n",
       "      <th>3</th>\n",
       "      <td>3</td>\n",
       "      <td>2054.0</td>\n",
       "      <td>3.0</td>\n",
       "      <td>3.0</td>\n",
       "      <td>1960.0</td>\n",
       "      <td>The perfect oversized ranch awaits you at 7 No...</td>\n",
       "      <td>0.569994</td>\n",
       "      <td>370000.0</td>\n",
       "    </tr>\n",
       "    <tr>\n",
       "      <th>4</th>\n",
       "      <td>4</td>\n",
       "      <td>4198.0</td>\n",
       "      <td>5.0</td>\n",
       "      <td>3.0</td>\n",
       "      <td>1972.0</td>\n",
       "      <td>Beautiful Colonial-3020 sqft. living space and...</td>\n",
       "      <td>0.939989</td>\n",
       "      <td>489999.0</td>\n",
       "    </tr>\n",
       "    <tr>\n",
       "      <th>...</th>\n",
       "      <td>...</td>\n",
       "      <td>...</td>\n",
       "      <td>...</td>\n",
       "      <td>...</td>\n",
       "      <td>...</td>\n",
       "      <td>...</td>\n",
       "      <td>...</td>\n",
       "      <td>...</td>\n",
       "    </tr>\n",
       "    <tr>\n",
       "      <th>2149</th>\n",
       "      <td>818</td>\n",
       "      <td>848.0</td>\n",
       "      <td>3.0</td>\n",
       "      <td>2.0</td>\n",
       "      <td>1948.0</td>\n",
       "      <td>This home sets at the beginning of a Cul-de-Sa...</td>\n",
       "      <td>0.189990</td>\n",
       "      <td>429900.0</td>\n",
       "    </tr>\n",
       "    <tr>\n",
       "      <th>2150</th>\n",
       "      <td>819</td>\n",
       "      <td>2400.0</td>\n",
       "      <td>4.0</td>\n",
       "      <td>4.0</td>\n",
       "      <td>2021.0</td>\n",
       "      <td>New home to be built. Amazing unobstructed wat...</td>\n",
       "      <td>0.079981</td>\n",
       "      <td>800000.0</td>\n",
       "    </tr>\n",
       "    <tr>\n",
       "      <th>2151</th>\n",
       "      <td>820</td>\n",
       "      <td>6538.0</td>\n",
       "      <td>7.0</td>\n",
       "      <td>7.0</td>\n",
       "      <td>2002.0</td>\n",
       "      <td>Can you say water views galore? Wake up to the...</td>\n",
       "      <td>0.079981</td>\n",
       "      <td>2700000.0</td>\n",
       "    </tr>\n",
       "    <tr>\n",
       "      <th>2152</th>\n",
       "      <td>821</td>\n",
       "      <td>4480.0</td>\n",
       "      <td>5.0</td>\n",
       "      <td>5.0</td>\n",
       "      <td>1890.0</td>\n",
       "      <td>NEW YEAR!  NEW FUTURE!    Escape NY to Connect...</td>\n",
       "      <td>0.849998</td>\n",
       "      <td>2550000.0</td>\n",
       "    </tr>\n",
       "    <tr>\n",
       "      <th>2153</th>\n",
       "      <td>822</td>\n",
       "      <td>3000.0</td>\n",
       "      <td>4.0</td>\n",
       "      <td>3.0</td>\n",
       "      <td>2020.0</td>\n",
       "      <td>One of the nicest new construction homes avail...</td>\n",
       "      <td>0.119995</td>\n",
       "      <td>1275000.0</td>\n",
       "    </tr>\n",
       "  </tbody>\n",
       "</table>\n",
       "<p>2154 rows × 8 columns</p>\n",
       "</div>"
      ],
      "text/plain": [
       "      index    AREA  BED  BATH   BUILT  \\\n",
       "0         0  1629.0  2.0   2.0  1889.0   \n",
       "1         1  1278.0  3.0   2.0  1900.0   \n",
       "2         2  1264.0  3.0   2.0  1988.0   \n",
       "3         3  2054.0  3.0   3.0  1960.0   \n",
       "4         4  4198.0  5.0   3.0  1972.0   \n",
       "...     ...     ...  ...   ...     ...   \n",
       "2149    818   848.0  3.0   2.0  1948.0   \n",
       "2150    819  2400.0  4.0   4.0  2021.0   \n",
       "2151    820  6538.0  7.0   7.0  2002.0   \n",
       "2152    821  4480.0  5.0   5.0  1890.0   \n",
       "2153    822  3000.0  4.0   3.0  2020.0   \n",
       "\n",
       "                                            DESCRIPTION   LOTSIZE      PRICE  \n",
       "0     Welcome home! Charming & well kept, this 2 bed...  0.159986   224000.0  \n",
       "1     This adorable cape has a lot to offer.  You st...  0.179981   225000.0  \n",
       "2     This 1264 sqft Colonial with its 3 bedrooms an...  0.089991   224900.0  \n",
       "3     The perfect oversized ranch awaits you at 7 No...  0.569994   370000.0  \n",
       "4     Beautiful Colonial-3020 sqft. living space and...  0.939989   489999.0  \n",
       "...                                                 ...       ...        ...  \n",
       "2149  This home sets at the beginning of a Cul-de-Sa...  0.189990   429900.0  \n",
       "2150  New home to be built. Amazing unobstructed wat...  0.079981   800000.0  \n",
       "2151  Can you say water views galore? Wake up to the...  0.079981  2700000.0  \n",
       "2152  NEW YEAR!  NEW FUTURE!    Escape NY to Connect...  0.849998  2550000.0  \n",
       "2153  One of the nicest new construction homes avail...  0.119995  1275000.0  \n",
       "\n",
       "[2154 rows x 8 columns]"
      ]
     },
     "execution_count": 5,
     "metadata": {},
     "output_type": "execute_result"
    }
   ],
   "source": [
    "d = pd.concat([d, d4.loc[nonduplicates]])\n",
    "d = d.loc[~pd.isna(d.DESCRIPTION.values)].reset_index()\n",
    "d"
   ]
  },
  {
   "cell_type": "markdown",
   "metadata": {},
   "source": [
    "## Let's look at one of the descriptions as an example."
   ]
  },
  {
   "cell_type": "code",
   "execution_count": 6,
   "metadata": {},
   "outputs": [
    {
     "data": {
      "text/plain": [
       "\"One of Ridgefield's most admired homes, custom built with absolutely no expense spared. Stunning Stone and Clapboard New England Colonial with exceptional architectural details throughout, beautifully sited on 1.48 park-like acres. The heart of this home features an updated gourmet Kitchen with Dacor double ovens, Viking cook top and Sub Zero Refrigerator. Gorgeous Taj Mahal Quartz counters and island with Tumbled Limestone back splash. Stylish Living Room with propane fireplace and spacious Dining Room with large Butler's pantry also with quartz and tumbled marble. Handsome Cherry paneled Library and sun filled Family Room with fireplace and built-in cabinets and desk. The Upper level features a large Master Suite with custom marble bath and generous walk-in closet. Three Bedrooms are en suite; and two bedrooms share a lovely Jack n Jill Bathroom. Large, custom Laundry Room and over sized Bonus Room round out the second floor. Other convenient features include front and rear staircases, mud room with built-ins, and large pantry and utility closets. The finished Lower Level offers a second Family Room, Computer desk Stations, Game Room and fabulous temperature controlled Wine Cellar. New automatic whole house Generator and Rain Bird irrigation system are some of the special features. Close to all town with shopping, great restaurants, amazing entertainment venues and schools. Excellent NYC commute. This is one home not to be missed.\""
      ]
     },
     "execution_count": 6,
     "metadata": {},
     "output_type": "execute_result"
    }
   ],
   "source": [
    "d.loc[10,\"DESCRIPTION\"]"
   ]
  },
  {
   "cell_type": "markdown",
   "metadata": {},
   "source": [
    "### Clean up the text a bit and separate into tokens"
   ]
  },
  {
   "cell_type": "code",
   "execution_count": 7,
   "metadata": {},
   "outputs": [],
   "source": [
    "desc = [re.sub(r'-', ' ', des).lower().strip().split() for des in d.loc[:,\"DESCRIPTION\"]]\n",
    "apostrophe = desc[0][-9][-2]\n",
    "desc = [[tkn.split(\"'s\")[0].split(apostrophe+\"s\")[0] for tkn in tokens] for tokens in desc]"
   ]
  },
  {
   "cell_type": "code",
   "execution_count": 8,
   "metadata": {},
   "outputs": [],
   "source": [
    "def has_numerics(string):\n",
    "    return any(ch.isnumeric() for ch in string)\n",
    "\n",
    "def is_cont(string):\n",
    "    return \"'\" in string or apostrophe in string\n",
    "\n",
    "def remove_string(string):\n",
    "    return has_numerics(string) or is_cont(string)"
   ]
  },
  {
   "cell_type": "code",
   "execution_count": 9,
   "metadata": {},
   "outputs": [],
   "source": [
    "desc = [[re.sub(r'[^\\w\\s]','',tkn) for tkn in tokens if not remove_string(tkn)] for tokens in desc]\n",
    "desc = [[tkn for tkn in tokens if not tkn == ''] for tokens in desc]"
   ]
  },
  {
   "cell_type": "code",
   "execution_count": 10,
   "metadata": {},
   "outputs": [
    {
     "data": {
      "text/plain": [
       "array(['one', 'of', 'ridgefield', 'most', 'admired', 'homes', 'custom',\n",
       "       'built', 'with', 'absolutely', 'no', 'expense', 'spared',\n",
       "       'stunning', 'stone', 'and', 'clapboard', 'new', 'england',\n",
       "       'colonial', 'with', 'exceptional', 'architectural', 'details',\n",
       "       'throughout', 'beautifully', 'sited', 'on', 'park', 'like',\n",
       "       'acres', 'the', 'heart', 'of', 'this', 'home', 'features', 'an',\n",
       "       'updated', 'gourmet', 'kitchen', 'with', 'dacor', 'double',\n",
       "       'ovens', 'viking', 'cook', 'top', 'and', 'sub', 'zero',\n",
       "       'refrigerator', 'gorgeous', 'taj', 'mahal', 'quartz', 'counters',\n",
       "       'and', 'island', 'with', 'tumbled', 'limestone', 'back', 'splash',\n",
       "       'stylish', 'living', 'room', 'with', 'propane', 'fireplace', 'and',\n",
       "       'spacious', 'dining', 'room', 'with', 'large', 'butler', 'pantry',\n",
       "       'also', 'with', 'quartz', 'and', 'tumbled', 'marble', 'handsome',\n",
       "       'cherry', 'paneled', 'library', 'and', 'sun', 'filled', 'family',\n",
       "       'room', 'with', 'fireplace', 'and', 'built', 'in', 'cabinets',\n",
       "       'and', 'desk', 'the', 'upper', 'level', 'features', 'a', 'large',\n",
       "       'master', 'suite', 'with', 'custom', 'marble', 'bath', 'and',\n",
       "       'generous', 'walk', 'in', 'closet', 'three', 'bedrooms', 'are',\n",
       "       'en', 'suite', 'and', 'two', 'bedrooms', 'share', 'a', 'lovely',\n",
       "       'jack', 'n', 'jill', 'bathroom', 'large', 'custom', 'laundry',\n",
       "       'room', 'and', 'over', 'sized', 'bonus', 'room', 'round', 'out',\n",
       "       'the', 'second', 'floor', 'other', 'convenient', 'features',\n",
       "       'include', 'front', 'and', 'rear', 'staircases', 'mud', 'room',\n",
       "       'with', 'built', 'ins', 'and', 'large', 'pantry', 'and', 'utility',\n",
       "       'closets', 'the', 'finished', 'lower', 'level', 'offers', 'a',\n",
       "       'second', 'family', 'room', 'computer', 'desk', 'stations', 'game',\n",
       "       'room', 'and', 'fabulous', 'temperature', 'controlled', 'wine',\n",
       "       'cellar', 'new', 'automatic', 'whole', 'house', 'generator', 'and',\n",
       "       'rain', 'bird', 'irrigation', 'system', 'are', 'some', 'of', 'the',\n",
       "       'special', 'features', 'close', 'to', 'all', 'town', 'with',\n",
       "       'shopping', 'great', 'restaurants', 'amazing', 'entertainment',\n",
       "       'venues', 'and', 'schools', 'excellent', 'nyc', 'commute', 'this',\n",
       "       'is', 'one', 'home', 'not', 'to', 'be', 'missed'], dtype='<U13')"
      ]
     },
     "execution_count": 10,
     "metadata": {},
     "output_type": "execute_result"
    }
   ],
   "source": [
    "np.array(desc[10])"
   ]
  },
  {
   "cell_type": "markdown",
   "metadata": {},
   "source": [
    "### Count how many times each word occurs throughout all the descriptions"
   ]
  },
  {
   "cell_type": "code",
   "execution_count": 11,
   "metadata": {},
   "outputs": [
    {
     "name": "stdout",
     "output_type": "stream",
     "text": [
      "Number of unique tokens: 9482\n"
     ]
    }
   ],
   "source": [
    "vocab = Counter()\n",
    "for desc_tkns in desc:\n",
    "    vocab.update(desc_tkns)\n",
    "\n",
    "print(\"Number of unique tokens: %d\" % len(vocab))"
   ]
  },
  {
   "cell_type": "markdown",
   "metadata": {},
   "source": [
    "### Remove words that are either too common or too rare"
   ]
  },
  {
   "cell_type": "code",
   "execution_count": 12,
   "metadata": {},
   "outputs": [
    {
     "name": "stdout",
     "output_type": "stream",
     "text": [
      "Number of unique tokens: 2657\n"
     ]
    }
   ],
   "source": [
    "vocab = Counter(token for token in vocab.elements() if vocab[token] > 5)\n",
    "stop_words = [item[0] for item in vocab.most_common(13)]\n",
    "vocab = Counter(token for token in vocab.elements() if token not in stop_words)\n",
    "print(\"Number of unique tokens: %d\" % len(vocab))"
   ]
  },
  {
   "cell_type": "markdown",
   "metadata": {},
   "source": [
    "### Build a mapping between unique words and integers"
   ]
  },
  {
   "cell_type": "code",
   "execution_count": 13,
   "metadata": {},
   "outputs": [
    {
     "name": "stdout",
     "output_type": "stream",
     "text": [
      "Number of tokens mapped: 2657\n",
      "Identifier for 'nyc': 544\n",
      "Word for identifier 544: nyc\n"
     ]
    }
   ],
   "source": [
    "id2word = {idx: pair[0] for idx, pair in enumerate(vocab.items())}\n",
    "word2id = {pair[0]: idx for idx, pair in enumerate(vocab.items())}\n",
    "\n",
    "s = 'nyc'\n",
    "print(\"Number of tokens mapped: %d\" % len(id2word))\n",
    "print(\"Identifier for '%s': %d\" % (s,word2id[s]))\n",
    "print(\"Word for identifier %d: %s\" % (word2id[s], id2word[word2id[s]]))"
   ]
  },
  {
   "cell_type": "code",
   "execution_count": 14,
   "metadata": {},
   "outputs": [],
   "source": [
    "desc = [[tkn for tkn in tokens if tkn in vocab] for tokens in desc]"
   ]
  },
  {
   "cell_type": "code",
   "execution_count": 15,
   "metadata": {},
   "outputs": [],
   "source": [
    "#remove homes with very few remaining tokens\n",
    "keep = np.where(np.array([len(tokens) for tokens in desc]) >= 5)[0]\n",
    "d = d.loc[keep]\n",
    "desc = [tokens for tokens in desc if len(tokens) >= 5]"
   ]
  },
  {
   "cell_type": "code",
   "execution_count": 16,
   "metadata": {},
   "outputs": [
    {
     "name": "stdout",
     "output_type": "stream",
     "text": [
      "Abstract, tokenized:\n",
      " ['one', 'ridgefield', 'most', 'homes', 'custom', 'built', 'absolutely', 'no', 'expense', 'spared', 'stunning', 'stone', 'clapboard', 'new', 'england', 'colonial', 'exceptional', 'architectural', 'details', 'throughout', 'beautifully', 'sited', 'park', 'like', 'acres', 'heart', 'features', 'an', 'updated', 'gourmet', 'kitchen', 'dacor', 'double', 'ovens', 'viking', 'cook', 'top', 'sub', 'zero', 'refrigerator', 'gorgeous', 'quartz', 'counters', 'island', 'limestone', 'back', 'splash', 'stylish', 'living', 'propane', 'fireplace', 'spacious', 'dining', 'large', 'butler', 'pantry', 'also', 'quartz', 'marble', 'handsome', 'cherry', 'paneled', 'library', 'sun', 'filled', 'family', 'fireplace', 'built', 'cabinets', 'desk', 'upper', 'level', 'features', 'large', 'master', 'suite', 'custom', 'marble', 'bath', 'generous', 'walk', 'closet', 'three', 'bedrooms', 'are', 'en', 'suite', 'two', 'bedrooms', 'share', 'lovely', 'jack', 'n', 'jill', 'bathroom', 'large', 'custom', 'laundry', 'over', 'sized', 'bonus', 'round', 'out', 'second', 'floor', 'other', 'convenient', 'features', 'include', 'front', 'rear', 'staircases', 'mud', 'built', 'ins', 'large', 'pantry', 'utility', 'closets', 'finished', 'lower', 'level', 'offers', 'second', 'family', 'computer', 'desk', 'stations', 'game', 'fabulous', 'controlled', 'wine', 'cellar', 'new', 'automatic', 'whole', 'house', 'generator', 'rain', 'bird', 'irrigation', 'system', 'are', 'some', 'special', 'features', 'close', 'all', 'town', 'shopping', 'great', 'restaurants', 'amazing', 'entertainment', 'schools', 'excellent', 'nyc', 'commute', 'one', 'not', 'be', 'missed'] \n",
      "\n",
      "Abstract, in corpus format:\n",
      " [(37, 2), (473, 1), (474, 1), (475, 1), (476, 3), (220, 3), (477, 1), (478, 1), (479, 1), (480, 1), (295, 1), (481, 1), (482, 1), (101, 2), (483, 1), (126, 1), (484, 1), (485, 1), (486, 1), (264, 1), (487, 1), (488, 1), (279, 1), (489, 1), (490, 1), (491, 1), (100, 4), (182, 1), (32, 1), (492, 1), (21, 1), (493, 1), (428, 1), (494, 1), (495, 1), (496, 1), (497, 1), (498, 1), (499, 1), (500, 1), (214, 1), (25, 2), (501, 1), (433, 1), (502, 1), (123, 1), (201, 1), (503, 1), (93, 1), (504, 1), (189, 2), (219, 1), (205, 1), (256, 4), (505, 1), (506, 2), (31, 1), (507, 2), (508, 1), (509, 1), (510, 1), (511, 1), (512, 1), (317, 1), (208, 2), (198, 1), (513, 2), (265, 1), (48, 2), (29, 1), (257, 2), (5, 1), (187, 1), (259, 1), (260, 1), (267, 1), (98, 2), (174, 2), (335, 1), (297, 1), (514, 1), (515, 1), (516, 1), (517, 1), (518, 1), (96, 1), (341, 1), (519, 1), (456, 1), (520, 1), (65, 1), (66, 1), (332, 2), (95, 1), (359, 1), (521, 1), (213, 1), (522, 1), (523, 1), (524, 1), (525, 1), (526, 1), (527, 1), (223, 1), (253, 1), (235, 1), (284, 1), (528, 1), (529, 1), (530, 1), (531, 1), (532, 1), (346, 1), (533, 1), (534, 1), (535, 1), (119, 1), (245, 1), (536, 1), (537, 1), (538, 1), (224, 1), (99, 1), (539, 1), (153, 1), (42, 1), (160, 1), (391, 1), (67, 1), (540, 1), (457, 1), (541, 1), (542, 1), (543, 1), (544, 1), (545, 1), (546, 1), (233, 1), (547, 1)]\n"
     ]
    }
   ],
   "source": [
    "corpus = []\n",
    "for tokens in desc:\n",
    "    tkn_count = Counter(tokens)\n",
    "    corpus.append([(word2id[item[0]], item[1]) for item in tkn_count.items()])\n",
    "    \n",
    "print(\"Abstract, tokenized:\\n\", desc[10], \"\\n\")\n",
    "print(\"Abstract, in corpus format:\\n\", corpus[10])"
   ]
  },
  {
   "cell_type": "markdown",
   "metadata": {},
   "source": [
    "## Build a Topic Model with 10 topics"
   ]
  },
  {
   "cell_type": "code",
   "execution_count": 17,
   "metadata": {},
   "outputs": [
    {
     "name": "stdout",
     "output_type": "stream",
     "text": [
      "CPU times: user 6.75 s, sys: 6.61 ms, total: 6.76 s\n",
      "Wall time: 6.78 s\n"
     ]
    }
   ],
   "source": [
    "%%time\n",
    "lda_model = gensim.models.ldamodel.LdaModel(corpus=corpus,\n",
    "                                            id2word=id2word,\n",
    "                                            num_topics=10, \n",
    "                                            random_state=100,\n",
    "                                            update_every=1,\n",
    "                                            chunksize=100,\n",
    "                                            passes=10,\n",
    "                                            alpha='auto',\n",
    "                                            per_word_topics=True)"
   ]
  },
  {
   "cell_type": "code",
   "execution_count": 18,
   "metadata": {},
   "outputs": [
    {
     "data": {
      "text/html": [
       "<div>\n",
       "<style scoped>\n",
       "    .dataframe tbody tr th:only-of-type {\n",
       "        vertical-align: middle;\n",
       "    }\n",
       "\n",
       "    .dataframe tbody tr th {\n",
       "        vertical-align: top;\n",
       "    }\n",
       "\n",
       "    .dataframe thead th {\n",
       "        text-align: right;\n",
       "    }\n",
       "</style>\n",
       "<table border=\"1\" class=\"dataframe\">\n",
       "  <thead>\n",
       "    <tr style=\"text-align: right;\">\n",
       "      <th></th>\n",
       "      <th>word rank</th>\n",
       "      <th>topic 0</th>\n",
       "      <th>topic 1</th>\n",
       "      <th>topic 2</th>\n",
       "      <th>topic 3</th>\n",
       "      <th>topic 4</th>\n",
       "      <th>topic 5</th>\n",
       "      <th>topic 6</th>\n",
       "      <th>topic 7</th>\n",
       "      <th>topic 8</th>\n",
       "      <th>topic 9</th>\n",
       "    </tr>\n",
       "  </thead>\n",
       "  <tbody>\n",
       "    <tr>\n",
       "      <th>0</th>\n",
       "      <td>1</td>\n",
       "      <td>new</td>\n",
       "      <td>level</td>\n",
       "      <td>views</td>\n",
       "      <td>floor</td>\n",
       "      <td>spaces</td>\n",
       "      <td>you</td>\n",
       "      <td>acres</td>\n",
       "      <td>property</td>\n",
       "      <td>ft</td>\n",
       "      <td>pool</td>\n",
       "    </tr>\n",
       "    <tr>\n",
       "      <th>1</th>\n",
       "      <td>2</td>\n",
       "      <td>appliances</td>\n",
       "      <td>living</td>\n",
       "      <td>private</td>\n",
       "      <td>bath</td>\n",
       "      <td>elegant</td>\n",
       "      <td>your</td>\n",
       "      <td>land</td>\n",
       "      <td>beach</td>\n",
       "      <td>sq</td>\n",
       "      <td>house</td>\n",
       "    </tr>\n",
       "    <tr>\n",
       "      <th>2</th>\n",
       "      <td>3</td>\n",
       "      <td>stainless</td>\n",
       "      <td>bedrooms</td>\n",
       "      <td>from</td>\n",
       "      <td>kitchen</td>\n",
       "      <td>custom</td>\n",
       "      <td>will</td>\n",
       "      <td>lot</td>\n",
       "      <td>or</td>\n",
       "      <td>post</td>\n",
       "      <td>sound</td>\n",
       "    </tr>\n",
       "    <tr>\n",
       "      <th>3</th>\n",
       "      <td>4</td>\n",
       "      <td>updated</td>\n",
       "      <td>full</td>\n",
       "      <td>an</td>\n",
       "      <td>master</td>\n",
       "      <td>studio</td>\n",
       "      <td>be</td>\n",
       "      <td>building</td>\n",
       "      <td>location</td>\n",
       "      <td>between</td>\n",
       "      <td>suite</td>\n",
       "    </tr>\n",
       "    <tr>\n",
       "      <th>4</th>\n",
       "      <td>5</td>\n",
       "      <td>steel</td>\n",
       "      <td>kitchen</td>\n",
       "      <td>by</td>\n",
       "      <td>walk</td>\n",
       "      <td>architect</td>\n",
       "      <td>it</td>\n",
       "      <td>seller</td>\n",
       "      <td>from</td>\n",
       "      <td>zoned</td>\n",
       "      <td>guest</td>\n",
       "    </tr>\n",
       "    <tr>\n",
       "      <th>5</th>\n",
       "      <td>6</td>\n",
       "      <td>remodeled</td>\n",
       "      <td>garage</td>\n",
       "      <td>living</td>\n",
       "      <td>large</td>\n",
       "      <td>experience</td>\n",
       "      <td>that</td>\n",
       "      <td>cheshire</td>\n",
       "      <td>located</td>\n",
       "      <td>sets</td>\n",
       "      <td>marble</td>\n",
       "    </tr>\n",
       "    <tr>\n",
       "      <th>6</th>\n",
       "      <td>7</td>\n",
       "      <td>renovated</td>\n",
       "      <td>space</td>\n",
       "      <td>island</td>\n",
       "      <td>open</td>\n",
       "      <td>exercise</td>\n",
       "      <td>have</td>\n",
       "      <td>agent</td>\n",
       "      <td>at</td>\n",
       "      <td>circular</td>\n",
       "      <td>stone</td>\n",
       "    </tr>\n",
       "    <tr>\n",
       "      <th>7</th>\n",
       "      <td>8</td>\n",
       "      <td>granite</td>\n",
       "      <td>has</td>\n",
       "      <td>waterfront</td>\n",
       "      <td>fireplace</td>\n",
       "      <td>dual</td>\n",
       "      <td>are</td>\n",
       "      <td>road</td>\n",
       "      <td>it</td>\n",
       "      <td>hardware</td>\n",
       "      <td>rooms</td>\n",
       "    </tr>\n",
       "    <tr>\n",
       "      <th>8</th>\n",
       "      <td>9</td>\n",
       "      <td>brand</td>\n",
       "      <td>bedroom</td>\n",
       "      <td>outdoor</td>\n",
       "      <td>full</td>\n",
       "      <td>direct</td>\n",
       "      <td>can</td>\n",
       "      <td>efficiency</td>\n",
       "      <td>opportunity</td>\n",
       "      <td>period</td>\n",
       "      <td>wine</td>\n",
       "    </tr>\n",
       "    <tr>\n",
       "      <th>9</th>\n",
       "      <td>10</td>\n",
       "      <td>roof</td>\n",
       "      <td>large</td>\n",
       "      <td>enjoy</td>\n",
       "      <td>bedroom</td>\n",
       "      <td>designed</td>\n",
       "      <td>all</td>\n",
       "      <td>rd</td>\n",
       "      <td>all</td>\n",
       "      <td>among</td>\n",
       "      <td>staircase</td>\n",
       "    </tr>\n",
       "    <tr>\n",
       "      <th>10</th>\n",
       "      <td>11</td>\n",
       "      <td>has</td>\n",
       "      <td>car</td>\n",
       "      <td>w</td>\n",
       "      <td>dining</td>\n",
       "      <td>quality</td>\n",
       "      <td>as</td>\n",
       "      <td>zone</td>\n",
       "      <td>great</td>\n",
       "      <td>residential</td>\n",
       "      <td>fireplace</td>\n",
       "    </tr>\n",
       "    <tr>\n",
       "      <th>11</th>\n",
       "      <td>12</td>\n",
       "      <td>throughout</td>\n",
       "      <td>yard</td>\n",
       "      <td>built</td>\n",
       "      <td>built</td>\n",
       "      <td>note</td>\n",
       "      <td>has</td>\n",
       "      <td>sf</td>\n",
       "      <td>park</td>\n",
       "      <td>forest</td>\n",
       "      <td>designed</td>\n",
       "    </tr>\n",
       "    <tr>\n",
       "      <th>12</th>\n",
       "      <td>13</td>\n",
       "      <td>cabinets</td>\n",
       "      <td>an</td>\n",
       "      <td>its</td>\n",
       "      <td>has</td>\n",
       "      <td>indoor</td>\n",
       "      <td>or</td>\n",
       "      <td>middletown</td>\n",
       "      <td>town</td>\n",
       "      <td>seeking</td>\n",
       "      <td>grand</td>\n",
       "    </tr>\n",
       "    <tr>\n",
       "      <th>13</th>\n",
       "      <td>14</td>\n",
       "      <td>windows</td>\n",
       "      <td>great</td>\n",
       "      <td>construction</td>\n",
       "      <td>gas</td>\n",
       "      <td>coastal</td>\n",
       "      <td>there</td>\n",
       "      <td>premier</td>\n",
       "      <td>as</td>\n",
       "      <td>serenity</td>\n",
       "      <td>barn</td>\n",
       "    </tr>\n",
       "    <tr>\n",
       "      <th>14</th>\n",
       "      <td>15</td>\n",
       "      <td>newer</td>\n",
       "      <td>main</td>\n",
       "      <td>expansive</td>\n",
       "      <td>second</td>\n",
       "      <td>levels</td>\n",
       "      <td>house</td>\n",
       "      <td>state</td>\n",
       "      <td>only</td>\n",
       "      <td>listed</td>\n",
       "      <td>heated</td>\n",
       "    </tr>\n",
       "  </tbody>\n",
       "</table>\n",
       "</div>"
      ],
      "text/plain": [
       "    word rank     topic 0   topic 1       topic 2    topic 3     topic 4  \\\n",
       "0           1         new     level         views      floor      spaces   \n",
       "1           2  appliances    living       private       bath     elegant   \n",
       "2           3   stainless  bedrooms          from    kitchen      custom   \n",
       "3           4     updated      full            an     master      studio   \n",
       "4           5       steel   kitchen            by       walk   architect   \n",
       "5           6   remodeled    garage        living      large  experience   \n",
       "6           7   renovated     space        island       open    exercise   \n",
       "7           8     granite       has    waterfront  fireplace        dual   \n",
       "8           9       brand   bedroom       outdoor       full      direct   \n",
       "9          10        roof     large         enjoy    bedroom    designed   \n",
       "10         11         has       car             w     dining     quality   \n",
       "11         12  throughout      yard         built      built        note   \n",
       "12         13    cabinets        an           its        has      indoor   \n",
       "13         14     windows     great  construction        gas     coastal   \n",
       "14         15       newer      main     expansive     second      levels   \n",
       "\n",
       "   topic 5     topic 6      topic 7      topic 8    topic 9  \n",
       "0      you       acres     property           ft       pool  \n",
       "1     your        land        beach           sq      house  \n",
       "2     will         lot           or         post      sound  \n",
       "3       be    building     location      between      suite  \n",
       "4       it      seller         from        zoned      guest  \n",
       "5     that    cheshire      located         sets     marble  \n",
       "6     have       agent           at     circular      stone  \n",
       "7      are        road           it     hardware      rooms  \n",
       "8      can  efficiency  opportunity       period       wine  \n",
       "9      all          rd          all        among  staircase  \n",
       "10      as        zone        great  residential  fireplace  \n",
       "11     has          sf         park       forest   designed  \n",
       "12      or  middletown         town      seeking      grand  \n",
       "13   there     premier           as     serenity       barn  \n",
       "14   house       state         only       listed     heated  "
      ]
     },
     "execution_count": 18,
     "metadata": {},
     "output_type": "execute_result"
    }
   ],
   "source": [
    "num_topics = 10\n",
    "num_words = 15\n",
    "top_words = pd.DataFrame({'word rank': np.arange(1,num_words+1)})\n",
    "for k in np.arange(num_topics): \n",
    "    topic = lda_model.get_topic_terms(k, num_words)\n",
    "    words = [id2word[topic[i][0]] for i in np.arange(num_words)]\n",
    "    probs = [topic[i][1] for i in np.arange(num_words)]\n",
    "    top_words['topic %d' % k] = words\n",
    "\n",
    "top_words"
   ]
  },
  {
   "cell_type": "code",
   "execution_count": 19,
   "metadata": {},
   "outputs": [
    {
     "data": {
      "text/html": [
       "<div>\n",
       "<style scoped>\n",
       "    .dataframe tbody tr th:only-of-type {\n",
       "        vertical-align: middle;\n",
       "    }\n",
       "\n",
       "    .dataframe tbody tr th {\n",
       "        vertical-align: top;\n",
       "    }\n",
       "\n",
       "    .dataframe thead th {\n",
       "        text-align: right;\n",
       "    }\n",
       "</style>\n",
       "<table border=\"1\" class=\"dataframe\">\n",
       "  <thead>\n",
       "    <tr style=\"text-align: right;\">\n",
       "      <th></th>\n",
       "      <th>Topic</th>\n",
       "      <th>Probabilities</th>\n",
       "    </tr>\n",
       "  </thead>\n",
       "  <tbody>\n",
       "    <tr>\n",
       "      <th>0</th>\n",
       "      <td>0</td>\n",
       "      <td>0.020556</td>\n",
       "    </tr>\n",
       "    <tr>\n",
       "      <th>1</th>\n",
       "      <td>1</td>\n",
       "      <td>0.100280</td>\n",
       "    </tr>\n",
       "    <tr>\n",
       "      <th>2</th>\n",
       "      <td>2</td>\n",
       "      <td>0.070294</td>\n",
       "    </tr>\n",
       "    <tr>\n",
       "      <th>3</th>\n",
       "      <td>3</td>\n",
       "      <td>0.446744</td>\n",
       "    </tr>\n",
       "    <tr>\n",
       "      <th>4</th>\n",
       "      <td>5</td>\n",
       "      <td>0.014332</td>\n",
       "    </tr>\n",
       "    <tr>\n",
       "      <th>5</th>\n",
       "      <td>7</td>\n",
       "      <td>0.110208</td>\n",
       "    </tr>\n",
       "    <tr>\n",
       "      <th>6</th>\n",
       "      <td>9</td>\n",
       "      <td>0.228064</td>\n",
       "    </tr>\n",
       "  </tbody>\n",
       "</table>\n",
       "</div>"
      ],
      "text/plain": [
       "   Topic  Probabilities\n",
       "0      0       0.020556\n",
       "1      1       0.100280\n",
       "2      2       0.070294\n",
       "3      3       0.446744\n",
       "4      5       0.014332\n",
       "5      7       0.110208\n",
       "6      9       0.228064"
      ]
     },
     "execution_count": 19,
     "metadata": {},
     "output_type": "execute_result"
    }
   ],
   "source": [
    "sample = 10\n",
    "topic_dist = lda_model.get_document_topics(corpus[sample])\n",
    "topics = [pair[0] for pair in topic_dist]\n",
    "probabilities = [pair[1] for pair in topic_dist]\n",
    "topic_dist_table = pd.DataFrame()\n",
    "topic_dist_table['Topic'] = topics\n",
    "topic_dist_table['Probabilities'] = probabilities\n",
    "topic_dist_table"
   ]
  },
  {
   "cell_type": "code",
   "execution_count": 20,
   "metadata": {},
   "outputs": [
    {
     "data": {
      "image/png": "[encoded data removed]",
      "text/plain": [
       "<Figure size 792x288 with 1 Axes>"
      ]
     },
     "metadata": {
      "needs_background": "light"
     },
     "output_type": "display_data"
    }
   ],
   "source": [
    "import matplotlib.pyplot as plt\n",
    "%matplotlib inline\n",
    "\n",
    "fig = plt.figure()\n",
    "fig.set_size_inches(11,4)\n",
    "plt.bar(topic_dist_table['Topic'], topic_dist_table['Probabilities'], align='center', alpha=1, color='salmon')\n",
    "plt.xlabel('topic')\n",
    "plt.ylabel('probability')\n",
    "plt.title('Per Topic Probability Distribution')\n",
    "plt.show()"
   ]
  },
  {
   "cell_type": "code",
   "execution_count": 21,
   "metadata": {},
   "outputs": [
    {
     "data": {
      "text/plain": [
       "\"One of Ridgefield's most admired homes, custom built with absolutely no expense spared. Stunning Stone and Clapboard New England Colonial with exceptional architectural details throughout, beautifully sited on 1.48 park-like acres. The heart of this home features an updated gourmet Kitchen with Dacor double ovens, Viking cook top and Sub Zero Refrigerator. Gorgeous Taj Mahal Quartz counters and island with Tumbled Limestone back splash. Stylish Living Room with propane fireplace and spacious Dining Room with large Butler's pantry also with quartz and tumbled marble. Handsome Cherry paneled Library and sun filled Family Room with fireplace and built-in cabinets and desk. The Upper level features a large Master Suite with custom marble bath and generous walk-in closet. Three Bedrooms are en suite; and two bedrooms share a lovely Jack n Jill Bathroom. Large, custom Laundry Room and over sized Bonus Room round out the second floor. Other convenient features include front and rear staircases, mud room with built-ins, and large pantry and utility closets. The finished Lower Level offers a second Family Room, Computer desk Stations, Game Room and fabulous temperature controlled Wine Cellar. New automatic whole house Generator and Rain Bird irrigation system are some of the special features. Close to all town with shopping, great restaurants, amazing entertainment venues and schools. Excellent NYC commute. This is one home not to be missed.\""
      ]
     },
     "execution_count": 21,
     "metadata": {},
     "output_type": "execute_result"
    }
   ],
   "source": [
    "d.loc[sample,\"DESCRIPTION\"]"
   ]
  },
  {
   "cell_type": "markdown",
   "metadata": {},
   "source": [
    "## Include the topic distribution for each house in a linear model"
   ]
  },
  {
   "cell_type": "code",
   "execution_count": 22,
   "metadata": {},
   "outputs": [],
   "source": [
    "topics = pd.DataFrame({\"Topic0\": np.zeros(d.shape[0])})\n",
    "for t in range(1,num_topics):\n",
    "    topics[\"Topic\"+str(t)] = np.zeros(d.shape[0])\n",
    "for i in range(d.shape[0]):\n",
    "    for t in lda_model.get_document_topics(corpus[i]):\n",
    "        topics.loc[i,\"Topic\"+str(t[0])] = t[1]"
   ]
  },
  {
   "cell_type": "code",
   "execution_count": 23,
   "metadata": {},
   "outputs": [
    {
     "data": {
      "text/html": [
       "<div>\n",
       "<style scoped>\n",
       "    .dataframe tbody tr th:only-of-type {\n",
       "        vertical-align: middle;\n",
       "    }\n",
       "\n",
       "    .dataframe tbody tr th {\n",
       "        vertical-align: top;\n",
       "    }\n",
       "\n",
       "    .dataframe thead th {\n",
       "        text-align: right;\n",
       "    }\n",
       "</style>\n",
       "<table border=\"1\" class=\"dataframe\">\n",
       "  <thead>\n",
       "    <tr style=\"text-align: right;\">\n",
       "      <th></th>\n",
       "      <th>Topic0</th>\n",
       "      <th>Topic1</th>\n",
       "      <th>Topic2</th>\n",
       "      <th>Topic3</th>\n",
       "      <th>Topic4</th>\n",
       "      <th>Topic5</th>\n",
       "      <th>Topic6</th>\n",
       "      <th>Topic7</th>\n",
       "      <th>Topic8</th>\n",
       "      <th>Topic9</th>\n",
       "    </tr>\n",
       "  </thead>\n",
       "  <tbody>\n",
       "    <tr>\n",
       "      <th>0</th>\n",
       "      <td>0.083655</td>\n",
       "      <td>0.265730</td>\n",
       "      <td>0.024441</td>\n",
       "      <td>0.121445</td>\n",
       "      <td>0.000000</td>\n",
       "      <td>0.252397</td>\n",
       "      <td>0.000000</td>\n",
       "      <td>0.212714</td>\n",
       "      <td>0.000000</td>\n",
       "      <td>0.032522</td>\n",
       "    </tr>\n",
       "    <tr>\n",
       "      <th>1</th>\n",
       "      <td>0.236970</td>\n",
       "      <td>0.322296</td>\n",
       "      <td>0.021817</td>\n",
       "      <td>0.169022</td>\n",
       "      <td>0.000000</td>\n",
       "      <td>0.171856</td>\n",
       "      <td>0.000000</td>\n",
       "      <td>0.057473</td>\n",
       "      <td>0.000000</td>\n",
       "      <td>0.010963</td>\n",
       "    </tr>\n",
       "    <tr>\n",
       "      <th>2</th>\n",
       "      <td>0.139924</td>\n",
       "      <td>0.204573</td>\n",
       "      <td>0.021464</td>\n",
       "      <td>0.034294</td>\n",
       "      <td>0.000000</td>\n",
       "      <td>0.167082</td>\n",
       "      <td>0.027732</td>\n",
       "      <td>0.393740</td>\n",
       "      <td>0.000000</td>\n",
       "      <td>0.000000</td>\n",
       "    </tr>\n",
       "    <tr>\n",
       "      <th>3</th>\n",
       "      <td>0.103487</td>\n",
       "      <td>0.359452</td>\n",
       "      <td>0.107326</td>\n",
       "      <td>0.341467</td>\n",
       "      <td>0.000000</td>\n",
       "      <td>0.066478</td>\n",
       "      <td>0.000000</td>\n",
       "      <td>0.014457</td>\n",
       "      <td>0.000000</td>\n",
       "      <td>0.000000</td>\n",
       "    </tr>\n",
       "    <tr>\n",
       "      <th>4</th>\n",
       "      <td>0.212829</td>\n",
       "      <td>0.261390</td>\n",
       "      <td>0.022332</td>\n",
       "      <td>0.380803</td>\n",
       "      <td>0.000000</td>\n",
       "      <td>0.024193</td>\n",
       "      <td>0.000000</td>\n",
       "      <td>0.086683</td>\n",
       "      <td>0.000000</td>\n",
       "      <td>0.000000</td>\n",
       "    </tr>\n",
       "    <tr>\n",
       "      <th>...</th>\n",
       "      <td>...</td>\n",
       "      <td>...</td>\n",
       "      <td>...</td>\n",
       "      <td>...</td>\n",
       "      <td>...</td>\n",
       "      <td>...</td>\n",
       "      <td>...</td>\n",
       "      <td>...</td>\n",
       "      <td>...</td>\n",
       "      <td>...</td>\n",
       "    </tr>\n",
       "    <tr>\n",
       "      <th>2138</th>\n",
       "      <td>0.247967</td>\n",
       "      <td>0.376383</td>\n",
       "      <td>0.019547</td>\n",
       "      <td>0.151743</td>\n",
       "      <td>0.000000</td>\n",
       "      <td>0.093347</td>\n",
       "      <td>0.000000</td>\n",
       "      <td>0.075137</td>\n",
       "      <td>0.012707</td>\n",
       "      <td>0.017268</td>\n",
       "    </tr>\n",
       "    <tr>\n",
       "      <th>2139</th>\n",
       "      <td>0.074201</td>\n",
       "      <td>0.150564</td>\n",
       "      <td>0.132911</td>\n",
       "      <td>0.457439</td>\n",
       "      <td>0.000000</td>\n",
       "      <td>0.075416</td>\n",
       "      <td>0.000000</td>\n",
       "      <td>0.092348</td>\n",
       "      <td>0.000000</td>\n",
       "      <td>0.000000</td>\n",
       "    </tr>\n",
       "    <tr>\n",
       "      <th>2140</th>\n",
       "      <td>0.000000</td>\n",
       "      <td>0.090201</td>\n",
       "      <td>0.166689</td>\n",
       "      <td>0.149316</td>\n",
       "      <td>0.012792</td>\n",
       "      <td>0.218981</td>\n",
       "      <td>0.012101</td>\n",
       "      <td>0.273104</td>\n",
       "      <td>0.000000</td>\n",
       "      <td>0.067930</td>\n",
       "    </tr>\n",
       "    <tr>\n",
       "      <th>2141</th>\n",
       "      <td>0.035328</td>\n",
       "      <td>0.136612</td>\n",
       "      <td>0.153157</td>\n",
       "      <td>0.108747</td>\n",
       "      <td>0.025940</td>\n",
       "      <td>0.086261</td>\n",
       "      <td>0.000000</td>\n",
       "      <td>0.372150</td>\n",
       "      <td>0.036241</td>\n",
       "      <td>0.042956</td>\n",
       "    </tr>\n",
       "    <tr>\n",
       "      <th>2142</th>\n",
       "      <td>0.018933</td>\n",
       "      <td>0.056123</td>\n",
       "      <td>0.265503</td>\n",
       "      <td>0.148678</td>\n",
       "      <td>0.000000</td>\n",
       "      <td>0.102376</td>\n",
       "      <td>0.014629</td>\n",
       "      <td>0.306886</td>\n",
       "      <td>0.000000</td>\n",
       "      <td>0.082999</td>\n",
       "    </tr>\n",
       "  </tbody>\n",
       "</table>\n",
       "<p>2143 rows × 10 columns</p>\n",
       "</div>"
      ],
      "text/plain": [
       "        Topic0    Topic1    Topic2    Topic3    Topic4    Topic5    Topic6  \\\n",
       "0     0.083655  0.265730  0.024441  0.121445  0.000000  0.252397  0.000000   \n",
       "1     0.236970  0.322296  0.021817  0.169022  0.000000  0.171856  0.000000   \n",
       "2     0.139924  0.204573  0.021464  0.034294  0.000000  0.167082  0.027732   \n",
       "3     0.103487  0.359452  0.107326  0.341467  0.000000  0.066478  0.000000   \n",
       "4     0.212829  0.261390  0.022332  0.380803  0.000000  0.024193  0.000000   \n",
       "...        ...       ...       ...       ...       ...       ...       ...   \n",
       "2138  0.247967  0.376383  0.019547  0.151743  0.000000  0.093347  0.000000   \n",
       "2139  0.074201  0.150564  0.132911  0.457439  0.000000  0.075416  0.000000   \n",
       "2140  0.000000  0.090201  0.166689  0.149316  0.012792  0.218981  0.012101   \n",
       "2141  0.035328  0.136612  0.153157  0.108747  0.025940  0.086261  0.000000   \n",
       "2142  0.018933  0.056123  0.265503  0.148678  0.000000  0.102376  0.014629   \n",
       "\n",
       "        Topic7    Topic8    Topic9  \n",
       "0     0.212714  0.000000  0.032522  \n",
       "1     0.057473  0.000000  0.010963  \n",
       "2     0.393740  0.000000  0.000000  \n",
       "3     0.014457  0.000000  0.000000  \n",
       "4     0.086683  0.000000  0.000000  \n",
       "...        ...       ...       ...  \n",
       "2138  0.075137  0.012707  0.017268  \n",
       "2139  0.092348  0.000000  0.000000  \n",
       "2140  0.273104  0.000000  0.067930  \n",
       "2141  0.372150  0.036241  0.042956  \n",
       "2142  0.306886  0.000000  0.082999  \n",
       "\n",
       "[2143 rows x 10 columns]"
      ]
     },
     "execution_count": 23,
     "metadata": {},
     "output_type": "execute_result"
    }
   ],
   "source": [
    "topics"
   ]
  },
  {
   "cell_type": "markdown",
   "metadata": {},
   "source": [
    "### But before we do that we need to clean up the other variables a bit."
   ]
  },
  {
   "cell_type": "code",
   "execution_count": 24,
   "metadata": {},
   "outputs": [],
   "source": [
    "d2 = d.reset_index().drop(columns=['level_0','index']).join(topics).dropna()"
   ]
  },
  {
   "cell_type": "code",
   "execution_count": 25,
   "metadata": {},
   "outputs": [
    {
     "data": {
      "text/plain": [
       "Index(['AREA', 'BED', 'BATH', 'BUILT', 'DESCRIPTION', 'LOTSIZE', 'PRICE',\n",
       "       'Topic0', 'Topic1', 'Topic2', 'Topic3', 'Topic4', 'Topic5', 'Topic6',\n",
       "       'Topic7', 'Topic8', 'Topic9'],\n",
       "      dtype='object')"
      ]
     },
     "execution_count": 25,
     "metadata": {},
     "output_type": "execute_result"
    }
   ],
   "source": [
    "d2.columns"
   ]
  },
  {
   "cell_type": "code",
   "execution_count": 26,
   "metadata": {},
   "outputs": [
    {
     "data": {
      "image/png": "[encoded data removed]",
      "text/plain": [
       "<Figure size 432x288 with 1 Axes>"
      ]
     },
     "metadata": {
      "needs_background": "light"
     },
     "output_type": "display_data"
    }
   ],
   "source": [
    "plt.hist(np.log(d2.AREA.values))\n",
    "plt.show()"
   ]
  },
  {
   "cell_type": "code",
   "execution_count": 27,
   "metadata": {},
   "outputs": [],
   "source": [
    "d2[\"logArea\"] = np.log(d2.AREA.values)"
   ]
  },
  {
   "cell_type": "code",
   "execution_count": 28,
   "metadata": {},
   "outputs": [
    {
     "data": {
      "text/plain": [
       "0.0       3\n",
       "1.0      31\n",
       "2.0     180\n",
       "3.0     839\n",
       "4.0     560\n",
       "5.0     165\n",
       "6.0      81\n",
       "7.0      37\n",
       "8.0      15\n",
       "9.0       7\n",
       "10.0      5\n",
       "11.0      2\n",
       "14.0      1\n",
       "19.0      1\n",
       "Name: BED, dtype: int64"
      ]
     },
     "execution_count": 28,
     "metadata": {},
     "output_type": "execute_result"
    }
   ],
   "source": [
    "d2.BED.value_counts(dropna=False).sort_index()"
   ]
  },
  {
   "cell_type": "code",
   "execution_count": 29,
   "metadata": {},
   "outputs": [
    {
     "data": {
      "text/plain": [
       "0.0       3\n",
       "1.0     326\n",
       "2.0     700\n",
       "3.0     481\n",
       "4.0     163\n",
       "5.0      84\n",
       "6.0      43\n",
       "7.0      28\n",
       "8.0      21\n",
       "9.0      25\n",
       "10.0     17\n",
       "11.0     15\n",
       "12.0      8\n",
       "13.0      7\n",
       "14.0      2\n",
       "16.0      1\n",
       "17.0      1\n",
       "18.0      1\n",
       "24.0      1\n",
       "Name: BATH, dtype: int64"
      ]
     },
     "execution_count": 29,
     "metadata": {},
     "output_type": "execute_result"
    }
   ],
   "source": [
    "d2.BATH.value_counts(dropna=False).sort_index()"
   ]
  },
  {
   "cell_type": "code",
   "execution_count": 30,
   "metadata": {},
   "outputs": [
    {
     "data": {
      "image/png": "[encoded data removed]",
      "text/plain": [
       "<Figure size 432x288 with 1 Axes>"
      ]
     },
     "metadata": {
      "needs_background": "light"
     },
     "output_type": "display_data"
    }
   ],
   "source": [
    "plt.hist(d2.BUILT.values)\n",
    "plt.show()"
   ]
  },
  {
   "cell_type": "code",
   "execution_count": 31,
   "metadata": {},
   "outputs": [
    {
     "data": {
      "image/png": "[encoded data removed]",
      "text/plain": [
       "<Figure size 432x288 with 1 Axes>"
      ]
     },
     "metadata": {
      "needs_background": "light"
     },
     "output_type": "display_data"
    }
   ],
   "source": [
    "plt.hist(d2.LOTSIZE.values)\n",
    "plt.show()"
   ]
  },
  {
   "cell_type": "code",
   "execution_count": 32,
   "metadata": {},
   "outputs": [],
   "source": [
    "d2 = d2.iloc[np.where(d2.LOTSIZE.values < 1000)[0]]"
   ]
  },
  {
   "cell_type": "code",
   "execution_count": 33,
   "metadata": {},
   "outputs": [
    {
     "data": {
      "image/png": "[encoded data removed]",
      "text/plain": [
       "<Figure size 432x288 with 1 Axes>"
      ]
     },
     "metadata": {
      "needs_background": "light"
     },
     "output_type": "display_data"
    }
   ],
   "source": [
    "plt.hist(np.log(d2.LOTSIZE.values))\n",
    "plt.show()"
   ]
  },
  {
   "cell_type": "code",
   "execution_count": 34,
   "metadata": {},
   "outputs": [
    {
     "data": {
      "image/png": "[encoded data removed]",
      "text/plain": [
       "<Figure size 432x288 with 1 Axes>"
      ]
     },
     "metadata": {
      "needs_background": "light"
     },
     "output_type": "display_data"
    }
   ],
   "source": [
    "plt.hist(np.log(d2.PRICE.values))\n",
    "plt.show()"
   ]
  },
  {
   "cell_type": "code",
   "execution_count": 35,
   "metadata": {},
   "outputs": [],
   "source": [
    "d2[\"logLOTSIZE\"] = np.log(d2.LOTSIZE.values)\n",
    "d2[\"logPRICE\"] = np.log(d2.PRICE.values)"
   ]
  },
  {
   "cell_type": "code",
   "execution_count": 36,
   "metadata": {},
   "outputs": [],
   "source": [
    "import statsmodels.formula.api as sm"
   ]
  },
  {
   "cell_type": "code",
   "execution_count": 37,
   "metadata": {},
   "outputs": [
    {
     "data": {
      "text/plain": [
       "Index(['AREA', 'BED', 'BATH', 'BUILT', 'DESCRIPTION', 'LOTSIZE', 'PRICE',\n",
       "       'Topic0', 'Topic1', 'Topic2', 'Topic3', 'Topic4', 'Topic5', 'Topic6',\n",
       "       'Topic7', 'Topic8', 'Topic9', 'logArea', 'logLOTSIZE', 'logPRICE'],\n",
       "      dtype='object')"
      ]
     },
     "execution_count": 37,
     "metadata": {},
     "output_type": "execute_result"
    }
   ],
   "source": [
    "d2.columns"
   ]
  },
  {
   "cell_type": "markdown",
   "metadata": {},
   "source": [
    "### Model with the Topics included"
   ]
  },
  {
   "cell_type": "code",
   "execution_count": 38,
   "metadata": {},
   "outputs": [
    {
     "data": {
      "text/html": [
       "<table class=\"simpletable\">\n",
       "<caption>OLS Regression Results</caption>\n",
       "<tr>\n",
       "  <th>Dep. Variable:</th>        <td>logPRICE</td>     <th>  R-squared:         </th> <td>   0.849</td>\n",
       "</tr>\n",
       "<tr>\n",
       "  <th>Model:</th>                   <td>OLS</td>       <th>  Adj. R-squared:    </th> <td>   0.848</td>\n",
       "</tr>\n",
       "<tr>\n",
       "  <th>Method:</th>             <td>Least Squares</td>  <th>  F-statistic:       </th> <td>   767.2</td>\n",
       "</tr>\n",
       "<tr>\n",
       "  <th>Date:</th>             <td>Wed, 25 Aug 2021</td> <th>  Prob (F-statistic):</th>  <td>  0.00</td> \n",
       "</tr>\n",
       "<tr>\n",
       "  <th>Time:</th>                 <td>13:03:43</td>     <th>  Log-Likelihood:    </th> <td> -1033.6</td>\n",
       "</tr>\n",
       "<tr>\n",
       "  <th>No. Observations:</th>      <td>  1925</td>      <th>  AIC:               </th> <td>   2097.</td>\n",
       "</tr>\n",
       "<tr>\n",
       "  <th>Df Residuals:</th>          <td>  1910</td>      <th>  BIC:               </th> <td>   2181.</td>\n",
       "</tr>\n",
       "<tr>\n",
       "  <th>Df Model:</th>              <td>    14</td>      <th>                     </th>     <td> </td>   \n",
       "</tr>\n",
       "<tr>\n",
       "  <th>Covariance Type:</th>      <td>nonrobust</td>    <th>                     </th>     <td> </td>   \n",
       "</tr>\n",
       "</table>\n",
       "<table class=\"simpletable\">\n",
       "<tr>\n",
       "       <td></td>         <th>coef</th>     <th>std err</th>      <th>t</th>      <th>P>|t|</th>  <th>[0.025</th>    <th>0.975]</th>  \n",
       "</tr>\n",
       "<tr>\n",
       "  <th>Intercept</th>  <td>    9.0236</td> <td>    0.531</td> <td>   17.005</td> <td> 0.000</td> <td>    7.983</td> <td>   10.064</td>\n",
       "</tr>\n",
       "<tr>\n",
       "  <th>logArea</th>    <td>    0.4818</td> <td>    0.033</td> <td>   14.587</td> <td> 0.000</td> <td>    0.417</td> <td>    0.547</td>\n",
       "</tr>\n",
       "<tr>\n",
       "  <th>logLOTSIZE</th> <td>    0.0228</td> <td>    0.010</td> <td>    2.298</td> <td> 0.022</td> <td>    0.003</td> <td>    0.042</td>\n",
       "</tr>\n",
       "<tr>\n",
       "  <th>BED</th>        <td>   -0.0041</td> <td>    0.013</td> <td>   -0.326</td> <td> 0.744</td> <td>   -0.029</td> <td>    0.021</td>\n",
       "</tr>\n",
       "<tr>\n",
       "  <th>BATH</th>       <td>    0.1304</td> <td>    0.010</td> <td>   12.642</td> <td> 0.000</td> <td>    0.110</td> <td>    0.151</td>\n",
       "</tr>\n",
       "<tr>\n",
       "  <th>BUILT</th>      <td>    0.0014</td> <td>    0.000</td> <td>    6.274</td> <td> 0.000</td> <td>    0.001</td> <td>    0.002</td>\n",
       "</tr>\n",
       "<tr>\n",
       "  <th>Topic0</th>     <td>   -2.7574</td> <td>    0.295</td> <td>   -9.340</td> <td> 0.000</td> <td>   -3.336</td> <td>   -2.178</td>\n",
       "</tr>\n",
       "<tr>\n",
       "  <th>Topic1</th>     <td>   -3.5305</td> <td>    0.256</td> <td>  -13.811</td> <td> 0.000</td> <td>   -4.032</td> <td>   -3.029</td>\n",
       "</tr>\n",
       "<tr>\n",
       "  <th>Topic2</th>     <td>   -0.7688</td> <td>    0.302</td> <td>   -2.544</td> <td> 0.011</td> <td>   -1.361</td> <td>   -0.176</td>\n",
       "</tr>\n",
       "<tr>\n",
       "  <th>Topic3</th>     <td>   -2.9250</td> <td>    0.260</td> <td>  -11.258</td> <td> 0.000</td> <td>   -3.435</td> <td>   -2.415</td>\n",
       "</tr>\n",
       "<tr>\n",
       "  <th>Topic4</th>     <td>    0.8590</td> <td>    0.573</td> <td>    1.499</td> <td> 0.134</td> <td>   -0.264</td> <td>    1.982</td>\n",
       "</tr>\n",
       "<tr>\n",
       "  <th>Topic5</th>     <td>   -3.5003</td> <td>    0.269</td> <td>  -13.034</td> <td> 0.000</td> <td>   -4.027</td> <td>   -2.974</td>\n",
       "</tr>\n",
       "<tr>\n",
       "  <th>Topic6</th>     <td>   -1.1744</td> <td>    0.524</td> <td>   -2.240</td> <td> 0.025</td> <td>   -2.203</td> <td>   -0.146</td>\n",
       "</tr>\n",
       "<tr>\n",
       "  <th>Topic7</th>     <td>   -3.2084</td> <td>    0.274</td> <td>  -11.719</td> <td> 0.000</td> <td>   -3.745</td> <td>   -2.671</td>\n",
       "</tr>\n",
       "<tr>\n",
       "  <th>Topic8</th>     <td>   -4.0629</td> <td>    0.944</td> <td>   -4.303</td> <td> 0.000</td> <td>   -5.915</td> <td>   -2.211</td>\n",
       "</tr>\n",
       "</table>\n",
       "<table class=\"simpletable\">\n",
       "<tr>\n",
       "  <th>Omnibus:</th>       <td>166.787</td> <th>  Durbin-Watson:     </th> <td>   1.544</td> \n",
       "</tr>\n",
       "<tr>\n",
       "  <th>Prob(Omnibus):</th> <td> 0.000</td>  <th>  Jarque-Bera (JB):  </th> <td> 486.106</td> \n",
       "</tr>\n",
       "<tr>\n",
       "  <th>Skew:</th>          <td> 0.449</td>  <th>  Prob(JB):          </th> <td>2.78e-106</td>\n",
       "</tr>\n",
       "<tr>\n",
       "  <th>Kurtosis:</th>      <td> 5.292</td>  <th>  Cond. No.          </th> <td>2.06e+05</td> \n",
       "</tr>\n",
       "</table><br/><br/>Warnings:<br/>[1] Standard Errors assume that the covariance matrix of the errors is correctly specified.<br/>[2] The condition number is large, 2.06e+05. This might indicate that there are<br/>strong multicollinearity or other numerical problems."
      ],
      "text/plain": [
       "<class 'statsmodels.iolib.summary.Summary'>\n",
       "\"\"\"\n",
       "                            OLS Regression Results                            \n",
       "==============================================================================\n",
       "Dep. Variable:               logPRICE   R-squared:                       0.849\n",
       "Model:                            OLS   Adj. R-squared:                  0.848\n",
       "Method:                 Least Squares   F-statistic:                     767.2\n",
       "Date:                Wed, 25 Aug 2021   Prob (F-statistic):               0.00\n",
       "Time:                        13:03:43   Log-Likelihood:                -1033.6\n",
       "No. Observations:                1925   AIC:                             2097.\n",
       "Df Residuals:                    1910   BIC:                             2181.\n",
       "Df Model:                          14                                         \n",
       "Covariance Type:            nonrobust                                         \n",
       "==============================================================================\n",
       "                 coef    std err          t      P>|t|      [0.025      0.975]\n",
       "------------------------------------------------------------------------------\n",
       "Intercept      9.0236      0.531     17.005      0.000       7.983      10.064\n",
       "logArea        0.4818      0.033     14.587      0.000       0.417       0.547\n",
       "logLOTSIZE     0.0228      0.010      2.298      0.022       0.003       0.042\n",
       "BED           -0.0041      0.013     -0.326      0.744      -0.029       0.021\n",
       "BATH           0.1304      0.010     12.642      0.000       0.110       0.151\n",
       "BUILT          0.0014      0.000      6.274      0.000       0.001       0.002\n",
       "Topic0        -2.7574      0.295     -9.340      0.000      -3.336      -2.178\n",
       "Topic1        -3.5305      0.256    -13.811      0.000      -4.032      -3.029\n",
       "Topic2        -0.7688      0.302     -2.544      0.011      -1.361      -0.176\n",
       "Topic3        -2.9250      0.260    -11.258      0.000      -3.435      -2.415\n",
       "Topic4         0.8590      0.573      1.499      0.134      -0.264       1.982\n",
       "Topic5        -3.5003      0.269    -13.034      0.000      -4.027      -2.974\n",
       "Topic6        -1.1744      0.524     -2.240      0.025      -2.203      -0.146\n",
       "Topic7        -3.2084      0.274    -11.719      0.000      -3.745      -2.671\n",
       "Topic8        -4.0629      0.944     -4.303      0.000      -5.915      -2.211\n",
       "==============================================================================\n",
       "Omnibus:                      166.787   Durbin-Watson:                   1.544\n",
       "Prob(Omnibus):                  0.000   Jarque-Bera (JB):              486.106\n",
       "Skew:                           0.449   Prob(JB):                    2.78e-106\n",
       "Kurtosis:                       5.292   Cond. No.                     2.06e+05\n",
       "==============================================================================\n",
       "\n",
       "Warnings:\n",
       "[1] Standard Errors assume that the covariance matrix of the errors is correctly specified.\n",
       "[2] The condition number is large, 2.06e+05. This might indicate that there are\n",
       "strong multicollinearity or other numerical problems.\n",
       "\"\"\""
      ]
     },
     "execution_count": 38,
     "metadata": {},
     "output_type": "execute_result"
    }
   ],
   "source": [
    "model = sm.ols(\"logPRICE ~ logArea + logLOTSIZE + BED + BATH + BUILT + Topic0 + \" +\n",
    "               \"Topic1 + Topic2 + Topic3 + Topic4 + Topic5 + Topic6 + Topic7 + Topic8\", data=d2).fit()\n",
    "model.summary()"
   ]
  },
  {
   "cell_type": "code",
   "execution_count": 39,
   "metadata": {},
   "outputs": [
    {
     "data": {
      "image/png": "[encoded data removed]",
      "text/plain": [
       "<Figure size 432x288 with 1 Axes>"
      ]
     },
     "metadata": {
      "needs_background": "light"
     },
     "output_type": "display_data"
    }
   ],
   "source": [
    "plt.hist(model.resid, bins=50)\n",
    "plt.show()"
   ]
  },
  {
   "cell_type": "markdown",
   "metadata": {},
   "source": [
    "### Model without the topics included"
   ]
  },
  {
   "cell_type": "code",
   "execution_count": 40,
   "metadata": {},
   "outputs": [
    {
     "data": {
      "text/html": [
       "<table class=\"simpletable\">\n",
       "<caption>OLS Regression Results</caption>\n",
       "<tr>\n",
       "  <th>Dep. Variable:</th>        <td>logPRICE</td>     <th>  R-squared:         </th> <td>   0.788</td>\n",
       "</tr>\n",
       "<tr>\n",
       "  <th>Model:</th>                   <td>OLS</td>       <th>  Adj. R-squared:    </th> <td>   0.788</td>\n",
       "</tr>\n",
       "<tr>\n",
       "  <th>Method:</th>             <td>Least Squares</td>  <th>  F-statistic:       </th> <td>   1429.</td>\n",
       "</tr>\n",
       "<tr>\n",
       "  <th>Date:</th>             <td>Wed, 25 Aug 2021</td> <th>  Prob (F-statistic):</th>  <td>  0.00</td> \n",
       "</tr>\n",
       "<tr>\n",
       "  <th>Time:</th>                 <td>13:03:52</td>     <th>  Log-Likelihood:    </th> <td> -1359.2</td>\n",
       "</tr>\n",
       "<tr>\n",
       "  <th>No. Observations:</th>      <td>  1925</td>      <th>  AIC:               </th> <td>   2730.</td>\n",
       "</tr>\n",
       "<tr>\n",
       "  <th>Df Residuals:</th>          <td>  1919</td>      <th>  BIC:               </th> <td>   2764.</td>\n",
       "</tr>\n",
       "<tr>\n",
       "  <th>Df Model:</th>              <td>     5</td>      <th>                     </th>     <td> </td>   \n",
       "</tr>\n",
       "<tr>\n",
       "  <th>Covariance Type:</th>      <td>nonrobust</td>    <th>                     </th>     <td> </td>   \n",
       "</tr>\n",
       "</table>\n",
       "<table class=\"simpletable\">\n",
       "<tr>\n",
       "       <td></td>         <th>coef</th>     <th>std err</th>      <th>t</th>      <th>P>|t|</th>  <th>[0.025</th>    <th>0.975]</th>  \n",
       "</tr>\n",
       "<tr>\n",
       "  <th>Intercept</th>  <td>    6.1053</td> <td>    0.527</td> <td>   11.589</td> <td> 0.000</td> <td>    5.072</td> <td>    7.139</td>\n",
       "</tr>\n",
       "<tr>\n",
       "  <th>logArea</th>    <td>    0.7015</td> <td>    0.035</td> <td>   19.795</td> <td> 0.000</td> <td>    0.632</td> <td>    0.771</td>\n",
       "</tr>\n",
       "<tr>\n",
       "  <th>logLOTSIZE</th> <td>    0.0842</td> <td>    0.011</td> <td>    7.700</td> <td> 0.000</td> <td>    0.063</td> <td>    0.106</td>\n",
       "</tr>\n",
       "<tr>\n",
       "  <th>BED</th>        <td>   -0.0634</td> <td>    0.015</td> <td>   -4.337</td> <td> 0.000</td> <td>   -0.092</td> <td>   -0.035</td>\n",
       "</tr>\n",
       "<tr>\n",
       "  <th>BATH</th>       <td>    0.2392</td> <td>    0.011</td> <td>   22.016</td> <td> 0.000</td> <td>    0.218</td> <td>    0.260</td>\n",
       "</tr>\n",
       "<tr>\n",
       "  <th>BUILT</th>      <td>    0.0006</td> <td>    0.000</td> <td>    2.327</td> <td> 0.020</td> <td> 9.06e-05</td> <td>    0.001</td>\n",
       "</tr>\n",
       "</table>\n",
       "<table class=\"simpletable\">\n",
       "<tr>\n",
       "  <th>Omnibus:</th>       <td>275.408</td> <th>  Durbin-Watson:     </th> <td>   1.541</td> \n",
       "</tr>\n",
       "<tr>\n",
       "  <th>Prob(Omnibus):</th> <td> 0.000</td>  <th>  Jarque-Bera (JB):  </th> <td> 816.750</td> \n",
       "</tr>\n",
       "<tr>\n",
       "  <th>Skew:</th>          <td> 0.739</td>  <th>  Prob(JB):          </th> <td>4.42e-178</td>\n",
       "</tr>\n",
       "<tr>\n",
       "  <th>Kurtosis:</th>      <td> 5.829</td>  <th>  Cond. No.          </th> <td>9.20e+04</td> \n",
       "</tr>\n",
       "</table><br/><br/>Warnings:<br/>[1] Standard Errors assume that the covariance matrix of the errors is correctly specified.<br/>[2] The condition number is large, 9.2e+04. This might indicate that there are<br/>strong multicollinearity or other numerical problems."
      ],
      "text/plain": [
       "<class 'statsmodels.iolib.summary.Summary'>\n",
       "\"\"\"\n",
       "                            OLS Regression Results                            \n",
       "==============================================================================\n",
       "Dep. Variable:               logPRICE   R-squared:                       0.788\n",
       "Model:                            OLS   Adj. R-squared:                  0.788\n",
       "Method:                 Least Squares   F-statistic:                     1429.\n",
       "Date:                Wed, 25 Aug 2021   Prob (F-statistic):               0.00\n",
       "Time:                        13:03:52   Log-Likelihood:                -1359.2\n",
       "No. Observations:                1925   AIC:                             2730.\n",
       "Df Residuals:                    1919   BIC:                             2764.\n",
       "Df Model:                           5                                         \n",
       "Covariance Type:            nonrobust                                         \n",
       "==============================================================================\n",
       "                 coef    std err          t      P>|t|      [0.025      0.975]\n",
       "------------------------------------------------------------------------------\n",
       "Intercept      6.1053      0.527     11.589      0.000       5.072       7.139\n",
       "logArea        0.7015      0.035     19.795      0.000       0.632       0.771\n",
       "logLOTSIZE     0.0842      0.011      7.700      0.000       0.063       0.106\n",
       "BED           -0.0634      0.015     -4.337      0.000      -0.092      -0.035\n",
       "BATH           0.2392      0.011     22.016      0.000       0.218       0.260\n",
       "BUILT          0.0006      0.000      2.327      0.020    9.06e-05       0.001\n",
       "==============================================================================\n",
       "Omnibus:                      275.408   Durbin-Watson:                   1.541\n",
       "Prob(Omnibus):                  0.000   Jarque-Bera (JB):              816.750\n",
       "Skew:                           0.739   Prob(JB):                    4.42e-178\n",
       "Kurtosis:                       5.829   Cond. No.                     9.20e+04\n",
       "==============================================================================\n",
       "\n",
       "Warnings:\n",
       "[1] Standard Errors assume that the covariance matrix of the errors is correctly specified.\n",
       "[2] The condition number is large, 9.2e+04. This might indicate that there are\n",
       "strong multicollinearity or other numerical problems.\n",
       "\"\"\""
      ]
     },
     "execution_count": 40,
     "metadata": {},
     "output_type": "execute_result"
    }
   ],
   "source": [
    "model2 = sm.ols(\"logPRICE ~ logArea + logLOTSIZE + BED + BATH + BUILT\", data=d2).fit()\n",
    "model2.summary()"
   ]
  },
  {
   "cell_type": "code",
   "execution_count": 41,
   "metadata": {},
   "outputs": [
    {
     "data": {
      "image/png": "[encoded data removed]",
      "text/plain": [
       "<Figure size 432x288 with 1 Axes>"
      ]
     },
     "metadata": {
      "needs_background": "light"
     },
     "output_type": "display_data"
    }
   ],
   "source": [
    "plt.hist(model2.resid, bins=50)\n",
    "plt.show()"
   ]
  },
  {
   "cell_type": "markdown",
   "metadata": {},
   "source": [
    "## What is the optimal number of topics for our purposes?\n",
    "\n",
    "#### To answer this question we use three well-known model selection criteria: leave-one-out cross validation, AIC, and BIC."
   ]
  },
  {
   "cell_type": "code",
   "execution_count": 42,
   "metadata": {},
   "outputs": [],
   "source": [
    "num_topics = [2,3,4,5,6,8,10,12,14,16,18,20,21,22,23,24,26,28,30]\n",
    "loocv = []\n",
    "models = []\n",
    "bics = []\n",
    "aics = []\n",
    "for num in num_topics:\n",
    "    tmod = gensim.models.ldamodel.LdaModel(corpus=corpus,\n",
    "                                            id2word=id2word,\n",
    "                                            num_topics=num, \n",
    "                                            random_state=100,\n",
    "                                            update_every=1,\n",
    "                                            chunksize=100,\n",
    "                                            passes=10,\n",
    "                                            alpha='auto',\n",
    "                                            per_word_topics=True)\n",
    "    topics = pd.DataFrame({\"Topic0\": np.zeros(d.shape[0])})\n",
    "    for t in range(1,num):\n",
    "        topics[\"Topic\"+str(t)] = np.zeros(d.shape[0])\n",
    "    for i in range(d.shape[0]):\n",
    "        for t in tmod.get_document_topics(corpus[i]):\n",
    "            topics.loc[i,\"Topic\"+str(t[0])] = t[1]\n",
    "    d2 = d.reset_index().drop(columns=['level_0','index']).join(topics).dropna()\n",
    "    d2[\"logArea\"] = np.log(d2.AREA.values)\n",
    "    d2 = d2.iloc[np.where(d2.LOTSIZE.values < 1000)[0]]\n",
    "    d2[\"logLOTSIZE\"] = np.log(d2.LOTSIZE.values)\n",
    "    d2[\"logPRICE\"] = np.log(d2.PRICE.values)\n",
    "    model = sm.ols(\"logPRICE ~ logArea + logLOTSIZE + BED + BATH + BUILT + Topic\" +\n",
    "               \" + Topic\".join([str(i) for i in range(num-1)]), data=d2).fit()\n",
    "    loocv.append(np.mean((model.resid/(1 - model.get_influence().hat_matrix_diag))**2))\n",
    "    bics.append(model.bic)\n",
    "    aics.append(model.aic)\n",
    "    models.append(model)"
   ]
  },
  {
   "cell_type": "code",
   "execution_count": 43,
   "metadata": {},
   "outputs": [
    {
     "data": {
      "image/png": "[encoded data removed]",
      "text/plain": [
       "<Figure size 360x864 with 3 Axes>"
      ]
     },
     "metadata": {
      "needs_background": "light"
     },
     "output_type": "display_data"
    }
   ],
   "source": [
    "fig, ax = plt.subplots(3,1, figsize=(5,12),sharex=True)\n",
    "\n",
    "ax[0].scatter(num_topics, loocv)\n",
    "ax[0].vlines(num_topics[np.argmin(loocv)], ymin=min(loocv), ymax=max(loocv))\n",
    "ax[0].set_title(\"L.O.O.C.V.\")\n",
    "\n",
    "ax[1].scatter(num_topics, aics)\n",
    "ax[1].vlines(num_topics[np.argmin(aics)], ymin=min(aics), ymax=max(aics))\n",
    "ax[1].set_title(\"AIC\")\n",
    "\n",
    "ax[2].scatter(num_topics, bics)\n",
    "ax[2].vlines(num_topics[np.argmin(bics)], ymin=min(bics), ymax=max(bics))\n",
    "ax[2].set_title(\"BIC\")\n",
    "\n",
    "plt.show()"
   ]
  },
  {
   "cell_type": "markdown",
   "metadata": {},
   "source": [
    "### So it looks like either the optimal number of topics is 3 or 22. Since those are quite different, we'll try both and see if they give similar answers to whether or not the topics are important in the model."
   ]
  },
  {
   "cell_type": "markdown",
   "metadata": {},
   "source": [
    "### Model with 3 topics"
   ]
  },
  {
   "cell_type": "code",
   "execution_count": 44,
   "metadata": {},
   "outputs": [
    {
     "data": {
      "text/html": [
       "<table class=\"simpletable\">\n",
       "<caption>OLS Regression Results</caption>\n",
       "<tr>\n",
       "  <th>Dep. Variable:</th>        <td>logPRICE</td>     <th>  R-squared:         </th> <td>   0.861</td>\n",
       "</tr>\n",
       "<tr>\n",
       "  <th>Model:</th>                   <td>OLS</td>       <th>  Adj. R-squared:    </th> <td>   0.861</td>\n",
       "</tr>\n",
       "<tr>\n",
       "  <th>Method:</th>             <td>Least Squares</td>  <th>  F-statistic:       </th> <td>   1700.</td>\n",
       "</tr>\n",
       "<tr>\n",
       "  <th>Date:</th>             <td>Wed, 25 Aug 2021</td> <th>  Prob (F-statistic):</th>  <td>  0.00</td> \n",
       "</tr>\n",
       "<tr>\n",
       "  <th>Time:</th>                 <td>13:08:29</td>     <th>  Log-Likelihood:    </th> <td> -952.11</td>\n",
       "</tr>\n",
       "<tr>\n",
       "  <th>No. Observations:</th>      <td>  1925</td>      <th>  AIC:               </th> <td>   1920.</td>\n",
       "</tr>\n",
       "<tr>\n",
       "  <th>Df Residuals:</th>          <td>  1917</td>      <th>  BIC:               </th> <td>   1965.</td>\n",
       "</tr>\n",
       "<tr>\n",
       "  <th>Df Model:</th>              <td>     7</td>      <th>                     </th>     <td> </td>   \n",
       "</tr>\n",
       "<tr>\n",
       "  <th>Covariance Type:</th>      <td>nonrobust</td>    <th>                     </th>     <td> </td>   \n",
       "</tr>\n",
       "</table>\n",
       "<table class=\"simpletable\">\n",
       "<tr>\n",
       "       <td></td>         <th>coef</th>     <th>std err</th>      <th>t</th>      <th>P>|t|</th>  <th>[0.025</th>    <th>0.975]</th>  \n",
       "</tr>\n",
       "<tr>\n",
       "  <th>Intercept</th>  <td>    8.9391</td> <td>    0.448</td> <td>   19.967</td> <td> 0.000</td> <td>    8.061</td> <td>    9.817</td>\n",
       "</tr>\n",
       "<tr>\n",
       "  <th>logArea</th>    <td>    0.4123</td> <td>    0.030</td> <td>   13.528</td> <td> 0.000</td> <td>    0.353</td> <td>    0.472</td>\n",
       "</tr>\n",
       "<tr>\n",
       "  <th>logLOTSIZE</th> <td>    0.0471</td> <td>    0.009</td> <td>    5.242</td> <td> 0.000</td> <td>    0.029</td> <td>    0.065</td>\n",
       "</tr>\n",
       "<tr>\n",
       "  <th>BED</th>        <td>   -0.0006</td> <td>    0.012</td> <td>   -0.051</td> <td> 0.959</td> <td>   -0.024</td> <td>    0.023</td>\n",
       "</tr>\n",
       "<tr>\n",
       "  <th>BATH</th>       <td>    0.1260</td> <td>    0.010</td> <td>   13.209</td> <td> 0.000</td> <td>    0.107</td> <td>    0.145</td>\n",
       "</tr>\n",
       "<tr>\n",
       "  <th>BUILT</th>      <td>    0.0011</td> <td>    0.000</td> <td>    5.478</td> <td> 0.000</td> <td>    0.001</td> <td>    0.002</td>\n",
       "</tr>\n",
       "<tr>\n",
       "  <th>Topic0</th>     <td>   -2.0460</td> <td>    0.072</td> <td>  -28.368</td> <td> 0.000</td> <td>   -2.187</td> <td>   -1.905</td>\n",
       "</tr>\n",
       "<tr>\n",
       "  <th>Topic1</th>     <td>   -1.9475</td> <td>    0.062</td> <td>  -31.233</td> <td> 0.000</td> <td>   -2.070</td> <td>   -1.825</td>\n",
       "</tr>\n",
       "</table>\n",
       "<table class=\"simpletable\">\n",
       "<tr>\n",
       "  <th>Omnibus:</th>       <td>163.191</td> <th>  Durbin-Watson:     </th> <td>   1.580</td> \n",
       "</tr>\n",
       "<tr>\n",
       "  <th>Prob(Omnibus):</th> <td> 0.000</td>  <th>  Jarque-Bera (JB):  </th> <td> 566.089</td> \n",
       "</tr>\n",
       "<tr>\n",
       "  <th>Skew:</th>          <td> 0.379</td>  <th>  Prob(JB):          </th> <td>1.19e-123</td>\n",
       "</tr>\n",
       "<tr>\n",
       "  <th>Kurtosis:</th>      <td> 5.546</td>  <th>  Cond. No.          </th> <td>9.67e+04</td> \n",
       "</tr>\n",
       "</table><br/><br/>Warnings:<br/>[1] Standard Errors assume that the covariance matrix of the errors is correctly specified.<br/>[2] The condition number is large, 9.67e+04. This might indicate that there are<br/>strong multicollinearity or other numerical problems."
      ],
      "text/plain": [
       "<class 'statsmodels.iolib.summary.Summary'>\n",
       "\"\"\"\n",
       "                            OLS Regression Results                            \n",
       "==============================================================================\n",
       "Dep. Variable:               logPRICE   R-squared:                       0.861\n",
       "Model:                            OLS   Adj. R-squared:                  0.861\n",
       "Method:                 Least Squares   F-statistic:                     1700.\n",
       "Date:                Wed, 25 Aug 2021   Prob (F-statistic):               0.00\n",
       "Time:                        13:08:29   Log-Likelihood:                -952.11\n",
       "No. Observations:                1925   AIC:                             1920.\n",
       "Df Residuals:                    1917   BIC:                             1965.\n",
       "Df Model:                           7                                         \n",
       "Covariance Type:            nonrobust                                         \n",
       "==============================================================================\n",
       "                 coef    std err          t      P>|t|      [0.025      0.975]\n",
       "------------------------------------------------------------------------------\n",
       "Intercept      8.9391      0.448     19.967      0.000       8.061       9.817\n",
       "logArea        0.4123      0.030     13.528      0.000       0.353       0.472\n",
       "logLOTSIZE     0.0471      0.009      5.242      0.000       0.029       0.065\n",
       "BED           -0.0006      0.012     -0.051      0.959      -0.024       0.023\n",
       "BATH           0.1260      0.010     13.209      0.000       0.107       0.145\n",
       "BUILT          0.0011      0.000      5.478      0.000       0.001       0.002\n",
       "Topic0        -2.0460      0.072    -28.368      0.000      -2.187      -1.905\n",
       "Topic1        -1.9475      0.062    -31.233      0.000      -2.070      -1.825\n",
       "==============================================================================\n",
       "Omnibus:                      163.191   Durbin-Watson:                   1.580\n",
       "Prob(Omnibus):                  0.000   Jarque-Bera (JB):              566.089\n",
       "Skew:                           0.379   Prob(JB):                    1.19e-123\n",
       "Kurtosis:                       5.546   Cond. No.                     9.67e+04\n",
       "==============================================================================\n",
       "\n",
       "Warnings:\n",
       "[1] Standard Errors assume that the covariance matrix of the errors is correctly specified.\n",
       "[2] The condition number is large, 9.67e+04. This might indicate that there are\n",
       "strong multicollinearity or other numerical problems.\n",
       "\"\"\""
      ]
     },
     "execution_count": 44,
     "metadata": {},
     "output_type": "execute_result"
    }
   ],
   "source": [
    "models[np.argmin(bics)].summary()"
   ]
  },
  {
   "cell_type": "markdown",
   "metadata": {},
   "source": [
    "#### Run an F-test to see if the topics are a statistically-significant set of variables in the model."
   ]
  },
  {
   "cell_type": "code",
   "execution_count": 45,
   "metadata": {},
   "outputs": [
    {
     "data": {
      "text/plain": [
       "8.895808255076282e-177"
      ]
     },
     "execution_count": 45,
     "metadata": {},
     "output_type": "execute_result"
    }
   ],
   "source": [
    "#F-test p-value:\n",
    "models[np.argmin(bics)].compare_f_test(model2)[1]"
   ]
  },
  {
   "cell_type": "code",
   "execution_count": 46,
   "metadata": {
    "scrolled": true
   },
   "outputs": [
    {
     "data": {
      "image/png": "[encoded data removed]",
      "text/plain": [
       "<Figure size 432x288 with 1 Axes>"
      ]
     },
     "metadata": {
      "needs_background": "light"
     },
     "output_type": "display_data"
    }
   ],
   "source": [
    "#histogram of residuals\n",
    "plt.hist(models[np.argmin(bics)].resid, bins=50)\n",
    "plt.show()"
   ]
  },
  {
   "cell_type": "code",
   "execution_count": 54,
   "metadata": {},
   "outputs": [
    {
     "data": {
      "text/plain": [
       "34.418762534142466"
      ]
     },
     "execution_count": 54,
     "metadata": {},
     "output_type": "execute_result"
    }
   ],
   "source": [
    "#percent decrease of the mean-squared-error by using the description\n",
    "100*(model2.mse_resid - models[np.argmin(bics)].mse_resid)/model2.mse_resid"
   ]
  },
  {
   "cell_type": "markdown",
   "metadata": {},
   "source": [
    "### Model with 22 topics"
   ]
  },
  {
   "cell_type": "code",
   "execution_count": 47,
   "metadata": {},
   "outputs": [
    {
     "data": {
      "text/html": [
       "<table class=\"simpletable\">\n",
       "<caption>OLS Regression Results</caption>\n",
       "<tr>\n",
       "  <th>Dep. Variable:</th>        <td>logPRICE</td>     <th>  R-squared:         </th> <td>   0.865</td>\n",
       "</tr>\n",
       "<tr>\n",
       "  <th>Model:</th>                   <td>OLS</td>       <th>  Adj. R-squared:    </th> <td>   0.863</td>\n",
       "</tr>\n",
       "<tr>\n",
       "  <th>Method:</th>             <td>Least Squares</td>  <th>  F-statistic:       </th> <td>   467.6</td>\n",
       "</tr>\n",
       "<tr>\n",
       "  <th>Date:</th>             <td>Wed, 25 Aug 2021</td> <th>  Prob (F-statistic):</th>  <td>  0.00</td> \n",
       "</tr>\n",
       "<tr>\n",
       "  <th>Time:</th>                 <td>13:08:43</td>     <th>  Log-Likelihood:    </th> <td> -926.13</td>\n",
       "</tr>\n",
       "<tr>\n",
       "  <th>No. Observations:</th>      <td>  1925</td>      <th>  AIC:               </th> <td>   1906.</td>\n",
       "</tr>\n",
       "<tr>\n",
       "  <th>Df Residuals:</th>          <td>  1898</td>      <th>  BIC:               </th> <td>   2056.</td>\n",
       "</tr>\n",
       "<tr>\n",
       "  <th>Df Model:</th>              <td>    26</td>      <th>                     </th>     <td> </td>   \n",
       "</tr>\n",
       "<tr>\n",
       "  <th>Covariance Type:</th>      <td>nonrobust</td>    <th>                     </th>     <td> </td>   \n",
       "</tr>\n",
       "</table>\n",
       "<table class=\"simpletable\">\n",
       "<tr>\n",
       "       <td></td>         <th>coef</th>     <th>std err</th>      <th>t</th>      <th>P>|t|</th>  <th>[0.025</th>    <th>0.975]</th>  \n",
       "</tr>\n",
       "<tr>\n",
       "  <th>Intercept</th>  <td>    7.0056</td> <td>    0.632</td> <td>   11.088</td> <td> 0.000</td> <td>    5.766</td> <td>    8.245</td>\n",
       "</tr>\n",
       "<tr>\n",
       "  <th>logArea</th>    <td>    0.4953</td> <td>    0.032</td> <td>   15.611</td> <td> 0.000</td> <td>    0.433</td> <td>    0.558</td>\n",
       "</tr>\n",
       "<tr>\n",
       "  <th>logLOTSIZE</th> <td>    0.0974</td> <td>    0.010</td> <td>    9.812</td> <td> 0.000</td> <td>    0.078</td> <td>    0.117</td>\n",
       "</tr>\n",
       "<tr>\n",
       "  <th>BED</th>        <td>   -0.0103</td> <td>    0.012</td> <td>   -0.856</td> <td> 0.392</td> <td>   -0.034</td> <td>    0.013</td>\n",
       "</tr>\n",
       "<tr>\n",
       "  <th>BATH</th>       <td>    0.1511</td> <td>    0.009</td> <td>   15.962</td> <td> 0.000</td> <td>    0.133</td> <td>    0.170</td>\n",
       "</tr>\n",
       "<tr>\n",
       "  <th>BUILT</th>      <td>    0.0006</td> <td>    0.000</td> <td>    3.001</td> <td> 0.003</td> <td>    0.000</td> <td>    0.001</td>\n",
       "</tr>\n",
       "<tr>\n",
       "  <th>Topic0</th>     <td>   -2.2994</td> <td>    0.859</td> <td>   -2.677</td> <td> 0.007</td> <td>   -3.984</td> <td>   -0.615</td>\n",
       "</tr>\n",
       "<tr>\n",
       "  <th>Topic1</th>     <td>   -0.1509</td> <td>    0.536</td> <td>   -0.282</td> <td> 0.778</td> <td>   -1.202</td> <td>    0.900</td>\n",
       "</tr>\n",
       "<tr>\n",
       "  <th>Topic2</th>     <td>    1.8870</td> <td>    0.499</td> <td>    3.785</td> <td> 0.000</td> <td>    0.909</td> <td>    2.865</td>\n",
       "</tr>\n",
       "<tr>\n",
       "  <th>Topic3</th>     <td>    1.0251</td> <td>    0.583</td> <td>    1.758</td> <td> 0.079</td> <td>   -0.118</td> <td>    2.168</td>\n",
       "</tr>\n",
       "<tr>\n",
       "  <th>Topic4</th>     <td>    3.9764</td> <td>    0.543</td> <td>    7.322</td> <td> 0.000</td> <td>    2.911</td> <td>    5.042</td>\n",
       "</tr>\n",
       "<tr>\n",
       "  <th>Topic5</th>     <td>    0.7898</td> <td>    0.855</td> <td>    0.924</td> <td> 0.356</td> <td>   -0.887</td> <td>    2.467</td>\n",
       "</tr>\n",
       "<tr>\n",
       "  <th>Topic6</th>     <td>    3.4151</td> <td>    0.797</td> <td>    4.283</td> <td> 0.000</td> <td>    1.851</td> <td>    4.979</td>\n",
       "</tr>\n",
       "<tr>\n",
       "  <th>Topic7</th>     <td>    0.5956</td> <td>    0.494</td> <td>    1.206</td> <td> 0.228</td> <td>   -0.373</td> <td>    1.564</td>\n",
       "</tr>\n",
       "<tr>\n",
       "  <th>Topic8</th>     <td>    3.7382</td> <td>    3.667</td> <td>    1.019</td> <td> 0.308</td> <td>   -3.454</td> <td>   10.930</td>\n",
       "</tr>\n",
       "<tr>\n",
       "  <th>Topic9</th>     <td>    0.9223</td> <td>    1.237</td> <td>    0.745</td> <td> 0.456</td> <td>   -1.504</td> <td>    3.349</td>\n",
       "</tr>\n",
       "<tr>\n",
       "  <th>Topic10</th>    <td>    0.5424</td> <td>    0.478</td> <td>    1.136</td> <td> 0.256</td> <td>   -0.394</td> <td>    1.479</td>\n",
       "</tr>\n",
       "<tr>\n",
       "  <th>Topic11</th>    <td>    0.0774</td> <td>    0.464</td> <td>    0.167</td> <td> 0.868</td> <td>   -0.833</td> <td>    0.988</td>\n",
       "</tr>\n",
       "<tr>\n",
       "  <th>Topic12</th>    <td>   11.7050</td> <td>    0.657</td> <td>   17.824</td> <td> 0.000</td> <td>   10.417</td> <td>   12.993</td>\n",
       "</tr>\n",
       "<tr>\n",
       "  <th>Topic13</th>    <td>   -3.2876</td> <td>    1.499</td> <td>   -2.193</td> <td> 0.028</td> <td>   -6.228</td> <td>   -0.347</td>\n",
       "</tr>\n",
       "<tr>\n",
       "  <th>Topic14</th>    <td>    0.0953</td> <td>    0.471</td> <td>    0.202</td> <td> 0.840</td> <td>   -0.828</td> <td>    1.019</td>\n",
       "</tr>\n",
       "<tr>\n",
       "  <th>Topic15</th>    <td>   -0.5706</td> <td>    0.584</td> <td>   -0.977</td> <td> 0.329</td> <td>   -1.716</td> <td>    0.574</td>\n",
       "</tr>\n",
       "<tr>\n",
       "  <th>Topic16</th>    <td>   -1.2762</td> <td>    2.238</td> <td>   -0.570</td> <td> 0.569</td> <td>   -5.666</td> <td>    3.113</td>\n",
       "</tr>\n",
       "<tr>\n",
       "  <th>Topic17</th>    <td>    9.0022</td> <td>    1.296</td> <td>    6.948</td> <td> 0.000</td> <td>    6.461</td> <td>   11.543</td>\n",
       "</tr>\n",
       "<tr>\n",
       "  <th>Topic18</th>    <td>    5.7862</td> <td>    5.813</td> <td>    0.995</td> <td> 0.320</td> <td>   -5.615</td> <td>   17.187</td>\n",
       "</tr>\n",
       "<tr>\n",
       "  <th>Topic19</th>    <td>   -2.8101</td> <td>    1.068</td> <td>   -2.630</td> <td> 0.009</td> <td>   -4.905</td> <td>   -0.715</td>\n",
       "</tr>\n",
       "<tr>\n",
       "  <th>Topic20</th>    <td>    2.4713</td> <td>    0.574</td> <td>    4.306</td> <td> 0.000</td> <td>    1.346</td> <td>    3.597</td>\n",
       "</tr>\n",
       "</table>\n",
       "<table class=\"simpletable\">\n",
       "<tr>\n",
       "  <th>Omnibus:</th>       <td>171.029</td> <th>  Durbin-Watson:     </th> <td>   1.654</td> \n",
       "</tr>\n",
       "<tr>\n",
       "  <th>Prob(Omnibus):</th> <td> 0.000</td>  <th>  Jarque-Bera (JB):  </th> <td> 651.886</td> \n",
       "</tr>\n",
       "<tr>\n",
       "  <th>Skew:</th>          <td> 0.370</td>  <th>  Prob(JB):          </th> <td>2.78e-142</td>\n",
       "</tr>\n",
       "<tr>\n",
       "  <th>Kurtosis:</th>      <td> 5.753</td>  <th>  Cond. No.          </th> <td>1.26e+06</td> \n",
       "</tr>\n",
       "</table><br/><br/>Warnings:<br/>[1] Standard Errors assume that the covariance matrix of the errors is correctly specified.<br/>[2] The condition number is large, 1.26e+06. This might indicate that there are<br/>strong multicollinearity or other numerical problems."
      ],
      "text/plain": [
       "<class 'statsmodels.iolib.summary.Summary'>\n",
       "\"\"\"\n",
       "                            OLS Regression Results                            \n",
       "==============================================================================\n",
       "Dep. Variable:               logPRICE   R-squared:                       0.865\n",
       "Model:                            OLS   Adj. R-squared:                  0.863\n",
       "Method:                 Least Squares   F-statistic:                     467.6\n",
       "Date:                Wed, 25 Aug 2021   Prob (F-statistic):               0.00\n",
       "Time:                        13:08:43   Log-Likelihood:                -926.13\n",
       "No. Observations:                1925   AIC:                             1906.\n",
       "Df Residuals:                    1898   BIC:                             2056.\n",
       "Df Model:                          26                                         \n",
       "Covariance Type:            nonrobust                                         \n",
       "==============================================================================\n",
       "                 coef    std err          t      P>|t|      [0.025      0.975]\n",
       "------------------------------------------------------------------------------\n",
       "Intercept      7.0056      0.632     11.088      0.000       5.766       8.245\n",
       "logArea        0.4953      0.032     15.611      0.000       0.433       0.558\n",
       "logLOTSIZE     0.0974      0.010      9.812      0.000       0.078       0.117\n",
       "BED           -0.0103      0.012     -0.856      0.392      -0.034       0.013\n",
       "BATH           0.1511      0.009     15.962      0.000       0.133       0.170\n",
       "BUILT          0.0006      0.000      3.001      0.003       0.000       0.001\n",
       "Topic0        -2.2994      0.859     -2.677      0.007      -3.984      -0.615\n",
       "Topic1        -0.1509      0.536     -0.282      0.778      -1.202       0.900\n",
       "Topic2         1.8870      0.499      3.785      0.000       0.909       2.865\n",
       "Topic3         1.0251      0.583      1.758      0.079      -0.118       2.168\n",
       "Topic4         3.9764      0.543      7.322      0.000       2.911       5.042\n",
       "Topic5         0.7898      0.855      0.924      0.356      -0.887       2.467\n",
       "Topic6         3.4151      0.797      4.283      0.000       1.851       4.979\n",
       "Topic7         0.5956      0.494      1.206      0.228      -0.373       1.564\n",
       "Topic8         3.7382      3.667      1.019      0.308      -3.454      10.930\n",
       "Topic9         0.9223      1.237      0.745      0.456      -1.504       3.349\n",
       "Topic10        0.5424      0.478      1.136      0.256      -0.394       1.479\n",
       "Topic11        0.0774      0.464      0.167      0.868      -0.833       0.988\n",
       "Topic12       11.7050      0.657     17.824      0.000      10.417      12.993\n",
       "Topic13       -3.2876      1.499     -2.193      0.028      -6.228      -0.347\n",
       "Topic14        0.0953      0.471      0.202      0.840      -0.828       1.019\n",
       "Topic15       -0.5706      0.584     -0.977      0.329      -1.716       0.574\n",
       "Topic16       -1.2762      2.238     -0.570      0.569      -5.666       3.113\n",
       "Topic17        9.0022      1.296      6.948      0.000       6.461      11.543\n",
       "Topic18        5.7862      5.813      0.995      0.320      -5.615      17.187\n",
       "Topic19       -2.8101      1.068     -2.630      0.009      -4.905      -0.715\n",
       "Topic20        2.4713      0.574      4.306      0.000       1.346       3.597\n",
       "==============================================================================\n",
       "Omnibus:                      171.029   Durbin-Watson:                   1.654\n",
       "Prob(Omnibus):                  0.000   Jarque-Bera (JB):              651.886\n",
       "Skew:                           0.370   Prob(JB):                    2.78e-142\n",
       "Kurtosis:                       5.753   Cond. No.                     1.26e+06\n",
       "==============================================================================\n",
       "\n",
       "Warnings:\n",
       "[1] Standard Errors assume that the covariance matrix of the errors is correctly specified.\n",
       "[2] The condition number is large, 1.26e+06. This might indicate that there are\n",
       "strong multicollinearity or other numerical problems.\n",
       "\"\"\""
      ]
     },
     "execution_count": 47,
     "metadata": {},
     "output_type": "execute_result"
    }
   ],
   "source": [
    "models[np.argmin(aics)].summary()"
   ]
  },
  {
   "cell_type": "code",
   "execution_count": 48,
   "metadata": {},
   "outputs": [
    {
     "data": {
      "text/plain": [
       "4.373299231042261e-168"
      ]
     },
     "execution_count": 48,
     "metadata": {},
     "output_type": "execute_result"
    }
   ],
   "source": [
    "models[np.argmin(aics)].compare_f_test(model2)[1]"
   ]
  },
  {
   "cell_type": "code",
   "execution_count": 49,
   "metadata": {},
   "outputs": [
    {
     "data": {
      "image/png": "[encoded data removed]",
      "text/plain": [
       "<Figure size 432x288 with 1 Axes>"
      ]
     },
     "metadata": {
      "needs_background": "light"
     },
     "output_type": "display_data"
    }
   ],
   "source": [
    "plt.hist(models[np.argmin(aics)].resid, bins=50)\n",
    "plt.show()"
   ]
  },
  {
   "cell_type": "code",
   "execution_count": 53,
   "metadata": {},
   "outputs": [
    {
     "data": {
      "text/plain": [
       "35.52625490617793"
      ]
     },
     "execution_count": 53,
     "metadata": {},
     "output_type": "execute_result"
    }
   ],
   "source": [
    "#percent decrease of the mean-squared-error by using the description\n",
    "100*(model2.mse_resid - models[np.argmin(aics)].mse_resid)/model2.mse_resid"
   ]
  },
  {
   "cell_type": "markdown",
   "metadata": {},
   "source": [
    "### So in both cases we find that the description provides statistically significant information that helps model the price! But what about the description should one look for?"
   ]
  },
  {
   "cell_type": "code",
   "execution_count": 64,
   "metadata": {
    "scrolled": false
   },
   "outputs": [
    {
     "data": {
      "text/html": [
       "<table class=\"simpletable\">\n",
       "<caption>OLS Regression Results</caption>\n",
       "<tr>\n",
       "  <th>Dep. Variable:</th>        <td>logPRICE</td>     <th>  R-squared:         </th> <td>   0.861</td>\n",
       "</tr>\n",
       "<tr>\n",
       "  <th>Model:</th>                   <td>OLS</td>       <th>  Adj. R-squared:    </th> <td>   0.861</td>\n",
       "</tr>\n",
       "<tr>\n",
       "  <th>Method:</th>             <td>Least Squares</td>  <th>  F-statistic:       </th> <td>   1700.</td>\n",
       "</tr>\n",
       "<tr>\n",
       "  <th>Date:</th>             <td>Wed, 25 Aug 2021</td> <th>  Prob (F-statistic):</th>  <td>  0.00</td> \n",
       "</tr>\n",
       "<tr>\n",
       "  <th>Time:</th>                 <td>13:24:41</td>     <th>  Log-Likelihood:    </th> <td> -952.11</td>\n",
       "</tr>\n",
       "<tr>\n",
       "  <th>No. Observations:</th>      <td>  1925</td>      <th>  AIC:               </th> <td>   1920.</td>\n",
       "</tr>\n",
       "<tr>\n",
       "  <th>Df Residuals:</th>          <td>  1917</td>      <th>  BIC:               </th> <td>   1965.</td>\n",
       "</tr>\n",
       "<tr>\n",
       "  <th>Df Model:</th>              <td>     7</td>      <th>                     </th>     <td> </td>   \n",
       "</tr>\n",
       "<tr>\n",
       "  <th>Covariance Type:</th>      <td>nonrobust</td>    <th>                     </th>     <td> </td>   \n",
       "</tr>\n",
       "</table>\n",
       "<table class=\"simpletable\">\n",
       "<tr>\n",
       "       <td></td>         <th>coef</th>     <th>std err</th>      <th>t</th>      <th>P>|t|</th>  <th>[0.025</th>    <th>0.975]</th>  \n",
       "</tr>\n",
       "<tr>\n",
       "  <th>Intercept</th>  <td>    8.9391</td> <td>    0.448</td> <td>   19.967</td> <td> 0.000</td> <td>    8.061</td> <td>    9.817</td>\n",
       "</tr>\n",
       "<tr>\n",
       "  <th>logArea</th>    <td>    0.4123</td> <td>    0.030</td> <td>   13.528</td> <td> 0.000</td> <td>    0.353</td> <td>    0.472</td>\n",
       "</tr>\n",
       "<tr>\n",
       "  <th>logLOTSIZE</th> <td>    0.0471</td> <td>    0.009</td> <td>    5.242</td> <td> 0.000</td> <td>    0.029</td> <td>    0.065</td>\n",
       "</tr>\n",
       "<tr>\n",
       "  <th>BED</th>        <td>   -0.0006</td> <td>    0.012</td> <td>   -0.051</td> <td> 0.959</td> <td>   -0.024</td> <td>    0.023</td>\n",
       "</tr>\n",
       "<tr>\n",
       "  <th>BATH</th>       <td>    0.1260</td> <td>    0.010</td> <td>   13.209</td> <td> 0.000</td> <td>    0.107</td> <td>    0.145</td>\n",
       "</tr>\n",
       "<tr>\n",
       "  <th>BUILT</th>      <td>    0.0011</td> <td>    0.000</td> <td>    5.478</td> <td> 0.000</td> <td>    0.001</td> <td>    0.002</td>\n",
       "</tr>\n",
       "<tr>\n",
       "  <th>Topic0</th>     <td>   -2.0460</td> <td>    0.072</td> <td>  -28.368</td> <td> 0.000</td> <td>   -2.187</td> <td>   -1.905</td>\n",
       "</tr>\n",
       "<tr>\n",
       "  <th>Topic1</th>     <td>   -1.9475</td> <td>    0.062</td> <td>  -31.233</td> <td> 0.000</td> <td>   -2.070</td> <td>   -1.825</td>\n",
       "</tr>\n",
       "</table>\n",
       "<table class=\"simpletable\">\n",
       "<tr>\n",
       "  <th>Omnibus:</th>       <td>163.191</td> <th>  Durbin-Watson:     </th> <td>   1.580</td> \n",
       "</tr>\n",
       "<tr>\n",
       "  <th>Prob(Omnibus):</th> <td> 0.000</td>  <th>  Jarque-Bera (JB):  </th> <td> 566.089</td> \n",
       "</tr>\n",
       "<tr>\n",
       "  <th>Skew:</th>          <td> 0.379</td>  <th>  Prob(JB):          </th> <td>1.19e-123</td>\n",
       "</tr>\n",
       "<tr>\n",
       "  <th>Kurtosis:</th>      <td> 5.546</td>  <th>  Cond. No.          </th> <td>9.67e+04</td> \n",
       "</tr>\n",
       "</table><br/><br/>Warnings:<br/>[1] Standard Errors assume that the covariance matrix of the errors is correctly specified.<br/>[2] The condition number is large, 9.67e+04. This might indicate that there are<br/>strong multicollinearity or other numerical problems."
      ],
      "text/plain": [
       "<class 'statsmodels.iolib.summary.Summary'>\n",
       "\"\"\"\n",
       "                            OLS Regression Results                            \n",
       "==============================================================================\n",
       "Dep. Variable:               logPRICE   R-squared:                       0.861\n",
       "Model:                            OLS   Adj. R-squared:                  0.861\n",
       "Method:                 Least Squares   F-statistic:                     1700.\n",
       "Date:                Wed, 25 Aug 2021   Prob (F-statistic):               0.00\n",
       "Time:                        13:24:41   Log-Likelihood:                -952.11\n",
       "No. Observations:                1925   AIC:                             1920.\n",
       "Df Residuals:                    1917   BIC:                             1965.\n",
       "Df Model:                           7                                         \n",
       "Covariance Type:            nonrobust                                         \n",
       "==============================================================================\n",
       "                 coef    std err          t      P>|t|      [0.025      0.975]\n",
       "------------------------------------------------------------------------------\n",
       "Intercept      8.9391      0.448     19.967      0.000       8.061       9.817\n",
       "logArea        0.4123      0.030     13.528      0.000       0.353       0.472\n",
       "logLOTSIZE     0.0471      0.009      5.242      0.000       0.029       0.065\n",
       "BED           -0.0006      0.012     -0.051      0.959      -0.024       0.023\n",
       "BATH           0.1260      0.010     13.209      0.000       0.107       0.145\n",
       "BUILT          0.0011      0.000      5.478      0.000       0.001       0.002\n",
       "Topic0        -2.0460      0.072    -28.368      0.000      -2.187      -1.905\n",
       "Topic1        -1.9475      0.062    -31.233      0.000      -2.070      -1.825\n",
       "==============================================================================\n",
       "Omnibus:                      163.191   Durbin-Watson:                   1.580\n",
       "Prob(Omnibus):                  0.000   Jarque-Bera (JB):              566.089\n",
       "Skew:                           0.379   Prob(JB):                    1.19e-123\n",
       "Kurtosis:                       5.546   Cond. No.                     9.67e+04\n",
       "==============================================================================\n",
       "\n",
       "Warnings:\n",
       "[1] Standard Errors assume that the covariance matrix of the errors is correctly specified.\n",
       "[2] The condition number is large, 9.67e+04. This might indicate that there are\n",
       "strong multicollinearity or other numerical problems.\n",
       "\"\"\""
      ]
     },
     "execution_count": 64,
     "metadata": {},
     "output_type": "execute_result"
    }
   ],
   "source": [
    "finalmod = gensim.models.ldamodel.LdaModel(corpus=corpus,\n",
    "                                            id2word=id2word,\n",
    "                                            num_topics=3, \n",
    "                                            random_state=100,\n",
    "                                            update_every=1,\n",
    "                                            chunksize=100,\n",
    "                                            passes=10,\n",
    "                                            alpha='auto',\n",
    "                                            per_word_topics=True)\n",
    "topics = pd.DataFrame({\"Topic0\": np.zeros(d.shape[0])})\n",
    "for t in range(1,3):\n",
    "    topics[\"Topic\"+str(t)] = np.zeros(d.shape[0])\n",
    "for i in range(d.shape[0]):\n",
    "    for t in finalmod.get_document_topics(corpus[i]):\n",
    "        topics.loc[i,\"Topic\"+str(t[0])] = t[1]\n",
    "d2 = d.reset_index().drop(columns=['level_0','index']).join(topics).dropna()\n",
    "d2[\"logArea\"] = np.log(d2.AREA.values)\n",
    "d2 = d2.iloc[np.where(d2.LOTSIZE.values < 1000)[0]]\n",
    "d2[\"logLOTSIZE\"] = np.log(d2.LOTSIZE.values)\n",
    "d2[\"logPRICE\"] = np.log(d2.PRICE.values)\n",
    "model = sm.ols(\"logPRICE ~ logArea + logLOTSIZE + BED + BATH + BUILT + Topic\" +\n",
    "               \" + Topic\".join([str(i) for i in range(3-1)]), data=d2).fit()\n",
    "model.summary()"
   ]
  },
  {
   "cell_type": "code",
   "execution_count": 72,
   "metadata": {},
   "outputs": [
    {
     "data": {
      "text/plain": [
       "(504.57089813535237, 8.895808255076282e-177, 2.0)"
      ]
     },
     "execution_count": 72,
     "metadata": {},
     "output_type": "execute_result"
    }
   ],
   "source": [
    "model.compare_f_test(model2)"
   ]
  },
  {
   "cell_type": "code",
   "execution_count": 78,
   "metadata": {},
   "outputs": [
    {
     "data": {
      "image/png": "[encoded data removed]",
      "text/plain": [
       "<Figure size 432x288 with 1 Axes>"
      ]
     },
     "metadata": {
      "needs_background": "light"
     },
     "output_type": "display_data"
    }
   ],
   "source": [
    "plt.hist(model2.resid, bins=50, histtype='step', density=True, label='Without\\nDescription')\n",
    "plt.hist(model.resid, bins=50, histtype='step', density=True, label='With\\nDescription')\n",
    "plt.xlabel(\"Residuals\", fontsize=14)\n",
    "plt.ylabel(\"Density\", fontsize=14)\n",
    "plt.text(0.8,0.75,r\"p-value: $9\\times 10^{-177}$\", fontsize=14)\n",
    "\n",
    "plt.legend(loc='best', fontsize=14)\n",
    "plt.tight_layout()\n",
    "plt.savefig(\"topicmodel_resids\")\n",
    "plt.show()"
   ]
  },
  {
   "cell_type": "code",
   "execution_count": 66,
   "metadata": {},
   "outputs": [
    {
     "data": {
      "text/html": [
       "<div>\n",
       "<style scoped>\n",
       "    .dataframe tbody tr th:only-of-type {\n",
       "        vertical-align: middle;\n",
       "    }\n",
       "\n",
       "    .dataframe tbody tr th {\n",
       "        vertical-align: top;\n",
       "    }\n",
       "\n",
       "    .dataframe thead th {\n",
       "        text-align: right;\n",
       "    }\n",
       "</style>\n",
       "<table border=\"1\" class=\"dataframe\">\n",
       "  <thead>\n",
       "    <tr style=\"text-align: right;\">\n",
       "      <th></th>\n",
       "      <th>word rank</th>\n",
       "      <th>topic 0</th>\n",
       "      <th>topic 1</th>\n",
       "      <th>topic 2</th>\n",
       "    </tr>\n",
       "  </thead>\n",
       "  <tbody>\n",
       "    <tr>\n",
       "      <th>0</th>\n",
       "      <td>1</td>\n",
       "      <td>your</td>\n",
       "      <td>kitchen</td>\n",
       "      <td>views</td>\n",
       "    </tr>\n",
       "    <tr>\n",
       "      <th>1</th>\n",
       "      <td>2</td>\n",
       "      <td>be</td>\n",
       "      <td>level</td>\n",
       "      <td>an</td>\n",
       "    </tr>\n",
       "    <tr>\n",
       "      <th>2</th>\n",
       "      <td>3</td>\n",
       "      <td>property</td>\n",
       "      <td>has</td>\n",
       "      <td>private</td>\n",
       "    </tr>\n",
       "    <tr>\n",
       "      <th>3</th>\n",
       "      <td>4</td>\n",
       "      <td>as</td>\n",
       "      <td>full</td>\n",
       "      <td>suite</td>\n",
       "    </tr>\n",
       "    <tr>\n",
       "      <th>4</th>\n",
       "      <td>5</td>\n",
       "      <td>or</td>\n",
       "      <td>bath</td>\n",
       "      <td>beach</td>\n",
       "    </tr>\n",
       "    <tr>\n",
       "      <th>5</th>\n",
       "      <td>6</td>\n",
       "      <td>new</td>\n",
       "      <td>floor</td>\n",
       "      <td>custom</td>\n",
       "    </tr>\n",
       "    <tr>\n",
       "      <th>6</th>\n",
       "      <td>7</td>\n",
       "      <td>it</td>\n",
       "      <td>large</td>\n",
       "      <td>from</td>\n",
       "    </tr>\n",
       "    <tr>\n",
       "      <th>7</th>\n",
       "      <td>8</td>\n",
       "      <td>will</td>\n",
       "      <td>living</td>\n",
       "      <td>floor</td>\n",
       "    </tr>\n",
       "    <tr>\n",
       "      <th>8</th>\n",
       "      <td>9</td>\n",
       "      <td>lot</td>\n",
       "      <td>new</td>\n",
       "      <td>by</td>\n",
       "    </tr>\n",
       "    <tr>\n",
       "      <th>9</th>\n",
       "      <td>10</td>\n",
       "      <td>at</td>\n",
       "      <td>bedrooms</td>\n",
       "      <td>island</td>\n",
       "    </tr>\n",
       "    <tr>\n",
       "      <th>10</th>\n",
       "      <td>11</td>\n",
       "      <td>has</td>\n",
       "      <td>bedroom</td>\n",
       "      <td>fireplace</td>\n",
       "    </tr>\n",
       "    <tr>\n",
       "      <th>11</th>\n",
       "      <td>12</td>\n",
       "      <td>are</td>\n",
       "      <td>you</td>\n",
       "      <td>built</td>\n",
       "    </tr>\n",
       "    <tr>\n",
       "      <th>12</th>\n",
       "      <td>13</td>\n",
       "      <td>opportunity</td>\n",
       "      <td>space</td>\n",
       "      <td>pool</td>\n",
       "    </tr>\n",
       "    <tr>\n",
       "      <th>13</th>\n",
       "      <td>14</td>\n",
       "      <td>all</td>\n",
       "      <td>an</td>\n",
       "      <td>master</td>\n",
       "    </tr>\n",
       "    <tr>\n",
       "      <th>14</th>\n",
       "      <td>15</td>\n",
       "      <td>located</td>\n",
       "      <td>hardwood</td>\n",
       "      <td>house</td>\n",
       "    </tr>\n",
       "    <tr>\n",
       "      <th>15</th>\n",
       "      <td>16</td>\n",
       "      <td>great</td>\n",
       "      <td>floors</td>\n",
       "      <td>living</td>\n",
       "    </tr>\n",
       "    <tr>\n",
       "      <th>16</th>\n",
       "      <td>17</td>\n",
       "      <td>location</td>\n",
       "      <td>your</td>\n",
       "      <td>stone</td>\n",
       "    </tr>\n",
       "    <tr>\n",
       "      <th>17</th>\n",
       "      <td>18</td>\n",
       "      <td>can</td>\n",
       "      <td>area</td>\n",
       "      <td>water</td>\n",
       "    </tr>\n",
       "    <tr>\n",
       "      <th>18</th>\n",
       "      <td>19</td>\n",
       "      <td>house</td>\n",
       "      <td>garage</td>\n",
       "      <td>sound</td>\n",
       "    </tr>\n",
       "    <tr>\n",
       "      <th>19</th>\n",
       "      <td>20</td>\n",
       "      <td>from</td>\n",
       "      <td>dining</td>\n",
       "      <td>kitchen</td>\n",
       "    </tr>\n",
       "    <tr>\n",
       "      <th>20</th>\n",
       "      <td>21</td>\n",
       "      <td>you</td>\n",
       "      <td>walk</td>\n",
       "      <td>open</td>\n",
       "    </tr>\n",
       "    <tr>\n",
       "      <th>21</th>\n",
       "      <td>22</td>\n",
       "      <td>by</td>\n",
       "      <td>deck</td>\n",
       "      <td>features</td>\n",
       "    </tr>\n",
       "    <tr>\n",
       "      <th>22</th>\n",
       "      <td>23</td>\n",
       "      <td>not</td>\n",
       "      <td>family</td>\n",
       "      <td>two</td>\n",
       "    </tr>\n",
       "    <tr>\n",
       "      <th>23</th>\n",
       "      <td>24</td>\n",
       "      <td>own</td>\n",
       "      <td>spacious</td>\n",
       "      <td>ceilings</td>\n",
       "    </tr>\n",
       "    <tr>\n",
       "      <th>24</th>\n",
       "      <td>25</td>\n",
       "      <td>only</td>\n",
       "      <td>that</td>\n",
       "      <td>waterfront</td>\n",
       "    </tr>\n",
       "  </tbody>\n",
       "</table>\n",
       "</div>"
      ],
      "text/plain": [
       "    word rank      topic 0   topic 1     topic 2\n",
       "0           1         your   kitchen       views\n",
       "1           2           be     level          an\n",
       "2           3     property       has     private\n",
       "3           4           as      full       suite\n",
       "4           5           or      bath       beach\n",
       "5           6          new     floor      custom\n",
       "6           7           it     large        from\n",
       "7           8         will    living       floor\n",
       "8           9          lot       new          by\n",
       "9          10           at  bedrooms      island\n",
       "10         11          has   bedroom   fireplace\n",
       "11         12          are       you       built\n",
       "12         13  opportunity     space        pool\n",
       "13         14          all        an      master\n",
       "14         15      located  hardwood       house\n",
       "15         16        great    floors      living\n",
       "16         17     location      your       stone\n",
       "17         18          can      area       water\n",
       "18         19        house    garage       sound\n",
       "19         20         from    dining     kitchen\n",
       "20         21          you      walk        open\n",
       "21         22           by      deck    features\n",
       "22         23          not    family         two\n",
       "23         24          own  spacious    ceilings\n",
       "24         25         only      that  waterfront"
      ]
     },
     "execution_count": 66,
     "metadata": {},
     "output_type": "execute_result"
    }
   ],
   "source": [
    "num_topics = 3\n",
    "num_words = 25\n",
    "top_words = pd.DataFrame({'word rank': np.arange(1,num_words+1)})\n",
    "for k in np.arange(num_topics): \n",
    "    topic = finalmod.get_topic_terms(k, num_words)\n",
    "    words = [id2word[topic[i][0]] for i in np.arange(num_words)]\n",
    "    probs = [topic[i][1] for i in np.arange(num_words)]\n",
    "    top_words['topic %d' % k] = words\n",
    "\n",
    "top_words"
   ]
  },
  {
   "cell_type": "markdown",
   "metadata": {},
   "source": [
    "#### So it appears from the model that the two first topics are talking about just the basic necessities of a home. Whereas the third topic is all about add-on luxuries! And the linear model suggests that the less frequently this third topic is used in the description, the price will drop significantly. In fact, since the t-scores of the coefficients for the topics are the two largest in the model, this suggests that the mention of luxuries in the description has a greater influence on the price than the other variables."
   ]
  },
  {
   "cell_type": "markdown",
   "metadata": {},
   "source": [
    "# Conclusion\n",
    "\n",
    "#### In both scenarios of the possible optimal number of topics being 3 or 22, the p-value from running an F-test on the topics was absolutely tiny! Formally, we should use post-selection inference techniques to get the p-value. But in this scenario since the p-values are nowhere close to being large, those techniques will almost certainly not change this conclusion. \n",
    "\n",
    "#### We find that the topics are a statistically-significant set of variables in predicting the price of sold houses in Connecticut! Furthermore, the dimensionally-reduced description appears to have a greater influence on the price than internal area, lot size, bedroom count, bathroom count, and year built. So, long story short, before you buy a house READ THE DESCRIPTION!!!"
   ]
  },
  {
   "cell_type": "code",
   "execution_count": null,
   "metadata": {},
   "outputs": [],
   "source": []
  }
 ],
 "metadata": {
  "kernelspec": {
   "display_name": "Python 3",
   "language": "python",
   "name": "python3"
  },
  "language_info": {
   "codemirror_mode": {
    "name": "ipython",
    "version": 3
   },
   "file_extension": ".py",
   "mimetype": "text/x-python",
   "name": "python",
   "nbconvert_exporter": "python",
   "pygments_lexer": "ipython3",
   "version": "3.7.6"
  }
 },
 "nbformat": 4,
 "nbformat_minor": 4
}
